{
 "cells": [
  {
   "cell_type": "markdown",
   "metadata": {},
   "source": [
    "# Homework #3: Nicolas Acton"
   ]
  },
  {
   "cell_type": "markdown",
   "metadata": {},
   "source": [
    "Consider two random variables h1 and h2 that are distributed according to a Gaussian distribution with zero\n",
    "mean, a unit variance and a correlation coefficient of 0.5. Generate 1000 realizations of these two random\n",
    "variables to get 1000 two-dimensional data points, {(h1i, h2i), i=1,…,1000}. "
   ]
  },
  {
   "cell_type": "markdown",
   "metadata": {},
   "source": [
    "## 1.\n",
    "Describe the method that you use to generate 1000 correlated Gaussian data points. One method will\n",
    "be to create a 2x2 covariance matrix C where the main diagonal elements are equal to 1 and the offdiagonal\n",
    "elements are equal to 0.5. Then apply a Cholesky factorization to the matrix C to get C = LL’,\n",
    "where L is a lower triangular matrix and L’ is the transpose of L. Let y1 and y2 be two statistically\n",
    "independent vectors, each containing 1000 realizations drawn from N(0,1); use the Box-Muller method\n",
    "to generate these realizations. Let [h1 h2]= [y1 y2] L. Show that h1 and h2 contain 1000 realizations\n",
    "drawn from a bivariate Gaussian distribution with zero means, unit variances, and correlation\n",
    "coefficient of 0.5."
   ]
  },
  {
   "cell_type": "code",
   "execution_count": 219,
   "metadata": {
    "collapsed": false
   },
   "outputs": [],
   "source": [
    "# As demonstrated in HMWK2, the Box-Muller method can be used to generate realizations of normal distributions.\n",
    "# However, instead of plotting the bi-variates together we'll plot them seperately.\n",
    "%matplotlib inline\n",
    "import matplotlib.pyplot as plt\n",
    "import numpy as np\n",
    "import math\n",
    "import random\n",
    "\n",
    "def boxMull(a, m, c, n):\n",
    "    print(\"This is a Box-Muller Transform with a=\" + str(a) + \" m=\" + str(m) + \" c=\" + str(c) + \" n=\" + str(n))\n",
    "    # Define Box-Muller Method\n",
    "    u1 = np.random.random(n)\n",
    "    r_squared = -2*np.log(u1)\n",
    "    r = np.sqrt(r_squared)\n",
    "    theta = 2*np.pi*a*u1 + 2*np.pi*(c/m)\n",
    "    x = r*np.cos(theta)\n",
    "\n",
    "    plt.hist(x)\n",
    "    plt.ylabel('some numbers')\n",
    "    plt.show()\n",
    "    x = np.sort(x)\n",
    "    return x\n",
    "    pass"
   ]
  },
  {
   "cell_type": "code",
   "execution_count": 220,
   "metadata": {
    "collapsed": false
   },
   "outputs": [
    {
     "name": "stdout",
     "output_type": "stream",
     "text": [
      "This is a Box-Muller Transform with a=50 m=1 c=0 n=1000\n"
     ]
    },
    {
     "data": {
      "image/png": "[encoded data removed]",
      "text/plain": [
       "<matplotlib.figure.Figure at 0x9ffbe10>"
      ]
     },
     "metadata": {},
     "output_type": "display_data"
    }
   ],
   "source": [
    "# We can use the function to generate one factorization\n",
    "y1 = boxMull(50,1,0,1000)"
   ]
  },
  {
   "cell_type": "code",
   "execution_count": 221,
   "metadata": {
    "collapsed": false
   },
   "outputs": [
    {
     "name": "stdout",
     "output_type": "stream",
     "text": [
      "This is a Box-Muller Transform with a=50 m=1 c=0 n=1000\n"
     ]
    },
    {
     "data": {
      "image/png": "[encoded data removed]",
      "text/plain": [
       "<matplotlib.figure.Figure at 0xa072ac8>"
      ]
     },
     "metadata": {},
     "output_type": "display_data"
    }
   ],
   "source": [
    "# An another\n",
    "y2 = boxMull(50,1,0,1000)"
   ]
  },
  {
   "cell_type": "markdown",
   "metadata": {},
   "source": [
    "The Covariance Matrix, C, with a covariance coefficient of $\\rho = 0.5$ can demonstrated as $C = [\\begin{matrix} 1 & 0.5 \\\\ 0.5 & 1 \\end{matrix}]$. Applying a Cholesky factorization can help find a lower triangular matrix L which will be applied to the previously generated Gaussian bi-variate to correlate them correctly.\n",
    "$$ C = \\begin{bmatrix} 1 & \\rho \\\\ \\rho & 1 \\end{bmatrix} = LL^{T} = \\begin{bmatrix} 1 & 0 \\\\ \\rho & \\sqrt{1-\\rho^{2}} \\end{bmatrix} \\begin{bmatrix} 1 & \\rho \\\\ 0 & \\sqrt{1-\\rho^{2}} \\end{bmatrix} $$\n",
    "So $ L =  \\begin{bmatrix} 1 & 0 \\\\ \\rho & \\sqrt{1-\\rho^{2}} \\end{bmatrix} =  \\begin{bmatrix} 1 & 0 \\\\ 0.5 & \\sqrt{0.75} \\end{bmatrix} $"
   ]
  },
  {
   "cell_type": "code",
   "execution_count": 222,
   "metadata": {
    "collapsed": false
   },
   "outputs": [],
   "source": [
    "L = [[1,0],[0.5, 0.866025404]]"
   ]
  },
  {
   "cell_type": "markdown",
   "metadata": {},
   "source": [
    "We are going to let $(h_{1} h_{2}) = (y_{1} y_{2})L$"
   ]
  },
  {
   "cell_type": "code",
   "execution_count": 223,
   "metadata": {
    "collapsed": false
   },
   "outputs": [
    {
     "name": "stdout",
     "output_type": "stream",
     "text": [
      "[[-4.54835723 -2.62019104]\n",
      " [-4.33346361 -2.56079822]\n",
      " [-3.99150229 -2.33151211]\n",
      " ..., \n",
      " [ 3.85568112  2.11490033]\n",
      " [ 3.92078791  2.21968447]\n",
      " [ 4.08956168  2.35926646]]\n"
     ]
    }
   ],
   "source": [
    "# h is an array of arrays that represents (h1 h2)\n",
    "h = []\n",
    "for i in range(0,999):\n",
    "    h.append(np.matmul((y1[i],y2[i]),L))\n",
    "h = np.asarray(h)\n",
    "print(h)"
   ]
  },
  {
   "cell_type": "code",
   "execution_count": 224,
   "metadata": {
    "collapsed": false
   },
   "outputs": [],
   "source": [
    "# Split h into two lists, h1 and h2, for further analysis\n",
    "h1 = []\n",
    "h2 = []\n",
    "# Populate the lists\n",
    "for i in range(0,999):\n",
    "    h1.append(h[i][0])\n",
    "    h2.append(h[i][1])"
   ]
  },
  {
   "cell_type": "code",
   "execution_count": 225,
   "metadata": {
    "collapsed": false
   },
   "outputs": [
    {
     "data": {
      "image/png": "[encoded data removed]",
      "text/plain": [
       "<matplotlib.figure.Figure at 0x9fdf080>"
      ]
     },
     "metadata": {},
     "output_type": "display_data"
    }
   ],
   "source": [
    "# To verify, lets plot both and check their distribution.\n",
    "plt.hist(h1)\n",
    "plt.show()\n",
    "pass"
   ]
  },
  {
   "cell_type": "code",
   "execution_count": 226,
   "metadata": {
    "collapsed": false
   },
   "outputs": [
    {
     "name": "stdout",
     "output_type": "stream",
     "text": [
      "The mean is -0.073853440253\n",
      "The standard deviation is 1.41697923053\n"
     ]
    }
   ],
   "source": [
    "# Lets also calculate their means and st.devs.\n",
    "meanH1 = np.mean(h1)\n",
    "print(\"The mean is \" + str(meanH1))\n",
    "stdevH1 = np.std(h1)\n",
    "print(\"The standard deviation is \" + str(stdevH1))"
   ]
  },
  {
   "cell_type": "code",
   "execution_count": 227,
   "metadata": {
    "collapsed": false
   },
   "outputs": [
    {
     "data": {
      "image/png": "[encoded data removed]",
      "text/plain": [
       "<matplotlib.figure.Figure at 0xa0c5c50>"
      ]
     },
     "metadata": {},
     "output_type": "display_data"
    }
   ],
   "source": [
    "plt.hist(h2)\n",
    "plt.show()\n",
    "pass"
   ]
  },
  {
   "cell_type": "code",
   "execution_count": 228,
   "metadata": {
    "collapsed": false
   },
   "outputs": [
    {
     "name": "stdout",
     "output_type": "stream",
     "text": [
      "The mean is -0.0157802412253\n",
      "The standard deviation is 0.839244681472\n"
     ]
    }
   ],
   "source": [
    "meanH2 = np.mean(h2)\n",
    "print(\"The mean is \" + str(meanH2))\n",
    "stdevH2 = np.std(h2)\n",
    "print(\"The standard deviation is \" + str(stdevH2))"
   ]
  },
  {
   "cell_type": "markdown",
   "metadata": {},
   "source": [
    "So far, the means are incredibly close to zero and we have a unit variances."
   ]
  },
  {
   "cell_type": "code",
   "execution_count": 229,
   "metadata": {
    "collapsed": false
   },
   "outputs": [
    {
     "name": "stdout",
     "output_type": "stream",
     "text": [
      "Sum of standardized products is 998.185565307\n",
      "The coefficient of correlation is 1.00018593718\n"
     ]
    }
   ],
   "source": [
    "# Now lets build standardized arrays for h1 and h2 that will help us find the correlation coefficient.\n",
    "z1 = []\n",
    "z2 = []\n",
    "\n",
    "for i in range(0,999):\n",
    "    z1.append((h1[i]-meanH1)/stdevH1)\n",
    "    z2.append((h2[i]-meanH2)/stdevH2)\n",
    "\n",
    "# Now multiply the corresponding values\n",
    "z = []\n",
    "for i in range(0,999):\n",
    "    z.append(z1[i]*z2[i])\n",
    "zsum = np.sum(z)\n",
    "print(\"Sum of standardized products is \" + str(zsum))\n",
    "rho = zsum/((len(z))-1)\n",
    "print(\"The coefficient of correlation is \" + str(rho))"
   ]
  },
  {
   "cell_type": "markdown",
   "metadata": {},
   "source": [
    "We have shown arithmetically that the bivariate Gaussian distribution between the RVs h1 and h2 are zero mean with unit variances and a correlation coefficient very close to 0.5!\n",
    "\n",
    "Source for Calculating Correlation Coefficient: https://www.thoughtco.com/how-to-calculate-the-correlation-coefficient-3126228"
   ]
  },
  {
   "cell_type": "markdown",
   "metadata": {},
   "source": [
    "## 2.\n",
    "Perform a QQ plot for the realizations of the random variable h1 to show that they follow a Gaussian\n",
    "distribution, N(0,1). To this end, draw 1000 samples of size 999 data points for the random variable,\n",
    "h1; then plot the sample medians and the interquartile ranges on a 2-dimensional graph versus the 999\n",
    "quantiles of the Gaussian distribution, N(0,1). The interquartile ranges are displayed using vertical bars\n",
    "for each of the quantiles. Discuss the results."
   ]
  },
  {
   "cell_type": "code",
   "execution_count": 232,
   "metadata": {
    "collapsed": false
   },
   "outputs": [
    {
     "data": {
      "image/png": "[encoded data removed]",
      "text/plain": [
       "<matplotlib.figure.Figure at 0x9609160>"
      ]
     },
     "metadata": {},
     "output_type": "display_data"
    }
   ],
   "source": [
    "# First we use the scipy statistics library to make the plot and use pylab to plot it.\n",
    "import pylab\n",
    "import scipy.stats as stats\n",
    "\n",
    "stats.probplot(h1, dist=\"norm\", plot=pylab)\n",
    "pylab.show()"
   ]
  },
  {
   "cell_type": "markdown",
   "metadata": {},
   "source": [
    "As demonstrated, h1 does seem to follow a Gaussian normal distribution of N(0,1)."
   ]
  },
  {
   "cell_type": "code",
   "execution_count": null,
   "metadata": {
    "collapsed": true
   },
   "outputs": [],
   "source": []
  },
  {
   "cell_type": "markdown",
   "metadata": {},
   "source": [
    "## 3. \n",
    "Implement the projection algorithm described in Chapter 6, Part 3, pp. 357-360 of the class notes.\n",
    "Perform a QQ plot to show that the squared projection statistics obey a chi-squared distribution with 2\n",
    "degrees of freedom when the 2 random variables, h1 and h2, follow a bivariate Gaussian distribution\n",
    "with zero means, unit variances and a correlation 0.5 (see Question 1). To this end, draw 1000 samples\n",
    "of size 999 data points of the projection statistics; then plot the sample medians and the interquartile\n",
    "ranges on a 2-dimensional graph versus the 999 quantiles of the Gaussian distribution, N(0,1). The\n",
    "interquartile ranges are displayed using vertical bars for each of the quantiles. Discuss the results."
   ]
  },
  {
   "cell_type": "code",
   "execution_count": null,
   "metadata": {
    "collapsed": true
   },
   "outputs": [],
   "source": [
    "# Calculate M for h1 and h2\n"
   ]
  },
  {
   "cell_type": "markdown",
   "metadata": {},
   "source": [
    "## 4. \n",
    "Replace n data-points with outliers by increasing the magnitude of their h values and identify the\n",
    "outliers using a statistical test applied to the projections statistics. Repeat this procedure for an\n",
    "increasing number of outliers, n =1, 2, 3,…,v. Determine the maximum fraction of outliers that can be\n",
    "identified by this method."
   ]
  },
  {
   "cell_type": "code",
   "execution_count": null,
   "metadata": {
    "collapsed": true
   },
   "outputs": [],
   "source": []
  }
 ],
 "metadata": {
  "anaconda-cloud": {},
  "kernelspec": {
   "display_name": "Python [conda root]",
   "language": "python",
   "name": "conda-root-py"
  },
  "language_info": {
   "codemirror_mode": {
    "name": "ipython",
    "version": 3
   },
   "file_extension": ".py",
   "mimetype": "text/x-python",
   "name": "python",
   "nbconvert_exporter": "python",
   "pygments_lexer": "ipython3",
   "version": "3.5.2"
  }
 },
 "nbformat": 4,
 "nbformat_minor": 1
}
