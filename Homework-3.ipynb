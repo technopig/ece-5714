{
 "cells": [
  {
   "cell_type": "markdown",
   "metadata": {},
   "source": [
    "# Homework #3: Nicolas Acton"
   ]
  },
  {
   "cell_type": "markdown",
   "metadata": {},
   "source": [
    "Consider two random variables h1 and h2 that are distributed according to a Gaussian distribution with zero mean, a unit variance and a correlation coefficient of 0.5. Generate 100 realizations of these two random variables to get 100 two-dimensional data points, {(h1i, h2i), i=1,…,100}."
   ]
  },
  {
   "cell_type": "markdown",
   "metadata": {},
   "source": [
    "## 1.\n",
    "Describe the method that you use to generate 100 correlated Gaussian data points. One method will be to create a 100x100 covariance matrix C where the main diagonal elements are equal to 1 and the off-diagonal elements are equal to 0.5. Then apply a Cholesky factorization to the matrix C to get C = LL’, where L is a lower triangular matrix. Let y1 and y2 be two statistically independent vectors each containing 100 realizations drawn from N(0,1); use the Box-Muller method to generate these realizations. Let h1 = L y1 and h2 = L y2. Show that h1 and h2 contain 100 realizations drawn from a Gaussian distribution with zero means, unit variances, and correlation coefficients of 0.5. Hint: calculate the covariance matrix E[h1 h2’]."
   ]
  },
  {
   "cell_type": "markdown",
   "metadata": {},
   "source": [
    "## 2.\n",
    "Perform a QQ plot and show that each of the realizations of the random variables, h1 and h2, follows a Gaussian distribution, N(0,1). To this end, draw 100 samples of size 99 data points for each random variable, h1 and h2, then plot the sample medians and the interquartile ranges on a 2-dimensional graph of the 99 quantiles."
   ]
  },
  {
   "cell_type": "markdown",
   "metadata": {},
   "source": [
    "## 3. \n",
    "Replace n data-points with outliers by increasing the magnitude of their h values. Implement the projection algorithm as described in Chapter 6, Part 3, pp. 357-360 of the class notes and identify the outliers. Repeat this procedure for an increasing number of outliers, n =1, 2, 3,…,. Determine the maximum fraction of outliers that can be identified by this method."
   ]
  }
 ],
 "metadata": {
  "kernelspec": {
   "display_name": "Python [conda root]",
   "language": "python",
   "name": "conda-root-py"
  },
  "language_info": {
   "codemirror_mode": {
    "name": "ipython",
    "version": 3
   },
   "file_extension": ".py",
   "mimetype": "text/x-python",
   "name": "python",
   "nbconvert_exporter": "python",
   "pygments_lexer": "ipython3",
   "version": "3.5.2"
  }
 },
 "nbformat": 4,
 "nbformat_minor": 1
}
