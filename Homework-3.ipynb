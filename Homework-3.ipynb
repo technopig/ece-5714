{
 "cells": [
  {
   "cell_type": "markdown",
   "metadata": {},
   "source": [
    "# Homework #3: Nicolas Acton"
   ]
  },
  {
   "cell_type": "markdown",
   "metadata": {},
   "source": [
    "Consider two random variables h1 and h2 that are distributed according to a Gaussian distribution with zero\n",
    "mean, a unit variance and a correlation coefficient of 0.5. Generate 1000 realizations of these two random\n",
    "variables to get 1000 two-dimensional data points, {(h1i, h2i), i=1,…,1000}. "
   ]
  },
  {
   "cell_type": "markdown",
   "metadata": {},
   "source": [
    "## 1.\n",
    "Describe the method that you use to generate 1000 correlated Gaussian data points. One method will\n",
    "be to create a 2x2 covariance matrix C where the main diagonal elements are equal to 1 and the offdiagonal\n",
    "elements are equal to 0.5. Then apply a Cholesky factorization to the matrix C to get C = LL’,\n",
    "where L is a lower triangular matrix and L’ is the transpose of L. Let y1 and y2 be two statistically\n",
    "independent vectors, each containing 1000 realizations drawn from N(0,1); use the Box-Muller method\n",
    "to generate these realizations. Let [h1 h2]= [y1 y2] L. Show that h1 and h2 contain 1000 realizations\n",
    "drawn from a bivariate Gaussian distribution with zero means, unit variances, and correlation\n",
    "coefficient of 0.5."
   ]
  },
  {
   "cell_type": "markdown",
   "metadata": {},
   "source": [
    "## 2.\n",
    "Implement the projection algorithm described in Chapter 6, Part 3, pp. 357-360 of the class notes.\n",
    "Perform a QQ plot to show that the squared projection statistics obey a chi-squared distribution with 2\n",
    "degrees of freedom when the 2 random variables, h1 and h2, follow a bivariate Gaussian distribution\n",
    "with zero means, unit variances and a correlation 0.5 (see Question 1). To this end, draw 1000 samples\n",
    "of size 999 data points of the projection statistics; then plot the sample medians and the interquartile\n",
    "ranges on a 2-dimensional graph versus the 999 quantiles of the Gaussian distribution, N(0,1). The\n",
    "interquartile ranges are displayed using vertical bars for each of the quantiles. Discuss the results."
   ]
  },
  {
   "cell_type": "markdown",
   "metadata": {},
   "source": [
    "## 3. \n",
    "Implement the projection algorithm described in Chapter 6, Part 3, pp. 357-360 of the class notes.\n",
    "Perform a QQ plot to show that the squared projection statistics obey a chi-squared distribution with 2\n",
    "degrees of freedom when the 2 random variables, h1 and h2, follow a bivariate Gaussian distribution\n",
    "with zero means, unit variances and a correlation 0.5 (see Question 1). To this end, draw 1000 samples\n",
    "of size 999 data points of the projection statistics; then plot the sample medians and the interquartile\n",
    "ranges on a 2-dimensional graph versus the 999 quantiles of the Gaussian distribution, N(0,1). The\n",
    "interquartile ranges are displayed using vertical bars for each of the quantiles. Discuss the results."
   ]
  },
  {
   "cell_type": "markdown",
   "metadata": {},
   "source": [
    "## 4. \n",
    "Replace n data-points with outliers by increasing the magnitude of their h values and identify the\n",
    "outliers using a statistical test applied to the projections statistics. Repeat this procedure for an\n",
    "increasing number of outliers, n =1, 2, 3,…,. Determine the maximum fraction of outliers that can be\n",
    "identified by this method."
   ]
  },
  {
   "cell_type": "code",
   "execution_count": null,
   "metadata": {
    "collapsed": true
   },
   "outputs": [],
   "source": []
  }
 ],
 "metadata": {
  "anaconda-cloud": {},
  "kernelspec": {
   "display_name": "Python [conda root]",
   "language": "python",
   "name": "conda-root-py"
  },
  "language_info": {
   "codemirror_mode": {
    "name": "ipython",
    "version": 3
   },
   "file_extension": ".py",
   "mimetype": "text/x-python",
   "name": "python",
   "nbconvert_exporter": "python",
   "pygments_lexer": "ipython3",
   "version": "3.5.2"
  }
 },
 "nbformat": 4,
 "nbformat_minor": 1
}
