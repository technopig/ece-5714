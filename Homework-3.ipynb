{
 "cells": [
  {
   "cell_type": "markdown",
   "metadata": {},
   "source": [
    "# Homework #3: Nicolas Acton"
   ]
  },
  {
   "cell_type": "markdown",
   "metadata": {},
   "source": [
    "Consider two random variables h1 and h2 that are distributed according to a Gaussian distribution with zero\n",
    "mean, a unit variance and a correlation coefficient of 0.5. Generate 1000 realizations of these two random\n",
    "variables to get 1000 two-dimensional data points, {(h1i, h2i), i=1,…,1000}. "
   ]
  },
  {
   "cell_type": "markdown",
   "metadata": {},
   "source": [
    "## 1.\n",
    "Describe the method that you use to generate 1000 correlated Gaussian data points. One method will\n",
    "be to create a 2x2 covariance matrix C where the main diagonal elements are equal to 1 and the offdiagonal\n",
    "elements are equal to 0.5. Then apply a Cholesky factorization to the matrix C to get C = LL’,\n",
    "where L is a lower triangular matrix and L’ is the transpose of L. Let y1 and y2 be two statistically\n",
    "independent vectors, each containing 1000 realizations drawn from N(0,1); use the Box-Muller method\n",
    "to generate these realizations. Let [h1 h2]= [y1 y2] L. Show that h1 and h2 contain 1000 realizations\n",
    "drawn from a bivariate Gaussian distribution with zero means, unit variances, and correlation\n",
    "coefficient of 0.5."
   ]
  },
  {
   "cell_type": "code",
   "execution_count": 173,
   "metadata": {
    "collapsed": false
   },
   "outputs": [],
   "source": [
    "# As demonstrated in HMWK2, the Box-Muller method can be used to generate realizations of normal distributions.\n",
    "# However, instead of plotting the bi-variates together we'll plot them seperately.\n",
    "%matplotlib inline\n",
    "import matplotlib.pyplot as plt\n",
    "import numpy as np\n",
    "import math\n",
    "import random\n",
    "    \n",
    "def rng(a, m, c, xi, n):\n",
    "    u = []\n",
    "    u.append(xi)\n",
    "    for i in range(0, n-1):\n",
    "        u.append((a*u[i] + c)%m)\n",
    "        i = i + 1\n",
    "    u2 = []\n",
    "    for i in range(0,n-1):\n",
    "        u2.append(u[i]/m)\n",
    "        i = i + 1\n",
    "    return u2\n",
    "        \n",
    "\n",
    "def boxMully1(a, m, c, xi, n):\n",
    "    # Define Box-Muller Method\n",
    "    u1 = rng(a,m,c,xi,n)\n",
    "    x = []\n",
    "    for i in range(0,n-1):\n",
    "        x.append(np.sqrt(-2*np.log(u1[i]))*np.cos(2*np.pi*a*u1[i] + 2*np.pi*(c/m)))\n",
    "        i = i +1\n",
    "    return x\n",
    "\n",
    "def boxMully2(a, m, c, xi, n):\n",
    "    # Define Box-Muller Method\n",
    "    u1 = rng(a,m,c,xi,n)\n",
    "    x = []\n",
    "    for i in range(0,n-1):\n",
    "        x.append(np.sqrt(-2*np.log(u1[i]))*np.sin(2*np.pi*a*u1[i] + 2*np.pi*(c/m)))\n",
    "        i = i +1\n",
    "    return x\n",
    "\n",
    "def gaussPlot(x):\n",
    "    plt.hist(x, 30, range=[-5, 5])\n",
    "    plt.ylabel('some numbers')\n",
    "    plt.show()\n",
    "    pass"
   ]
  },
  {
   "cell_type": "code",
   "execution_count": 174,
   "metadata": {
    "collapsed": false
   },
   "outputs": [
    {
     "data": {
      "image/png": "[encoded data removed]",
      "text/plain": [
       "<matplotlib.figure.Figure at 0x8337940>"
      ]
     },
     "metadata": {},
     "output_type": "display_data"
    }
   ],
   "source": [
    "# We can use the function to generate one factorization\n",
    "y1 = boxMully1(7**5, 2**31-1, 0, 1, 1000)\n",
    "gaussPlot(y1)"
   ]
  },
  {
   "cell_type": "code",
   "execution_count": 175,
   "metadata": {
    "collapsed": false
   },
   "outputs": [
    {
     "data": {
      "image/png": "[encoded data removed]",
      "text/plain": [
       "<matplotlib.figure.Figure at 0x82bc438>"
      ]
     },
     "metadata": {},
     "output_type": "display_data"
    }
   ],
   "source": [
    "# An another\n",
    "y2 = boxMully2(7**5, 2**31-1, 0, 1, 1000)\n",
    "gaussPlot(y2)"
   ]
  },
  {
   "cell_type": "markdown",
   "metadata": {},
   "source": [
    "The Covariance Matrix, C, with a covariance coefficient of $\\rho = 0.5$ can demonstrated as $C = [\\begin{matrix} 1 & 0.5 \\\\ 0.5 & 1 \\end{matrix}]$. Applying a Cholesky factorization can help find a lower triangular matrix L which will be applied to the previously generated Gaussian bi-variate to correlate them correctly.\n",
    "$$ C = \\begin{bmatrix} 1 & \\rho \\\\ \\rho & 1 \\end{bmatrix} = LL^{T} = \\begin{bmatrix} 1 & 0 \\\\ \\rho & \\sqrt{1-\\rho^{2}} \\end{bmatrix} \\begin{bmatrix} 1 & \\rho \\\\ 0 & \\sqrt{1-\\rho^{2}} \\end{bmatrix} $$\n",
    "So $ L =  \\begin{bmatrix} 1 & 0 \\\\ \\rho & \\sqrt{1-\\rho^{2}} \\end{bmatrix} =  \\begin{bmatrix} 1 & 0 \\\\ 0.5 & \\sqrt{0.75} \\end{bmatrix} $"
   ]
  },
  {
   "cell_type": "code",
   "execution_count": 176,
   "metadata": {
    "collapsed": false
   },
   "outputs": [],
   "source": [
    "L = [[1,0],[0.5, 0.866025404]]"
   ]
  },
  {
   "cell_type": "markdown",
   "metadata": {},
   "source": [
    "We are going to let $(h_{1} h_{2}) = (y_{1} y_{2})L$"
   ]
  },
  {
   "cell_type": "code",
   "execution_count": 177,
   "metadata": {
    "collapsed": false
   },
   "outputs": [],
   "source": [
    "# h is an array of arrays that represents (h1 h2)\n",
    "y = np.column_stack((y1,y2))\n",
    "\n",
    "def constructH(y):\n",
    "    global L\n",
    "    h = []\n",
    "    for i in range(0,998):\n",
    "        t = np.matmul(y[i],L)\n",
    "        h.append(t)\n",
    "        i = i+1\n",
    "    return h\n",
    "\n",
    "h = constructH(y)"
   ]
  },
  {
   "cell_type": "code",
   "execution_count": 178,
   "metadata": {
    "collapsed": false
   },
   "outputs": [],
   "source": [
    "# Split h into two lists, h1 and h2, for further analysis\n",
    "h1 = []\n",
    "h2 = []\n",
    "# Populate the lists\n",
    "for i in range(0,998):\n",
    "    h1.append(h[i][0])\n",
    "    h2.append(h[i][1])"
   ]
  },
  {
   "cell_type": "code",
   "execution_count": 179,
   "metadata": {
    "collapsed": false
   },
   "outputs": [
    {
     "data": {
      "image/png": "[encoded data removed]",
      "text/plain": [
       "<matplotlib.figure.Figure at 0xc208ba8>"
      ]
     },
     "metadata": {},
     "output_type": "display_data"
    }
   ],
   "source": [
    "# To verify, lets plot both and check their distribution.\n",
    "gaussPlot(h1)"
   ]
  },
  {
   "cell_type": "code",
   "execution_count": 180,
   "metadata": {
    "collapsed": false
   },
   "outputs": [
    {
     "name": "stdout",
     "output_type": "stream",
     "text": [
      "The mean is -0.0471965647782\n",
      "The standard deviation is 1.18122804447\n"
     ]
    }
   ],
   "source": [
    "# Lets also calculate their means and st.devs.\n",
    "meanH1 = np.mean(h1)\n",
    "print(\"The mean is \" + str(meanH1))\n",
    "stdevH1 = np.std(h1)\n",
    "print(\"The standard deviation is \" + str(stdevH1))"
   ]
  },
  {
   "cell_type": "code",
   "execution_count": 181,
   "metadata": {
    "collapsed": false
   },
   "outputs": [
    {
     "data": {
      "image/png": "[encoded data removed]",
      "text/plain": [
       "<matplotlib.figure.Figure at 0xba2b5f8>"
      ]
     },
     "metadata": {},
     "output_type": "display_data"
    }
   ],
   "source": [
    "plt.hist(h2)\n",
    "plt.show()\n",
    "pass"
   ]
  },
  {
   "cell_type": "code",
   "execution_count": 182,
   "metadata": {
    "collapsed": false
   },
   "outputs": [
    {
     "name": "stdout",
     "output_type": "stream",
     "text": [
      "The mean is -0.0069222789135\n",
      "The standard deviation is 0.845544795575\n"
     ]
    }
   ],
   "source": [
    "meanH2 = np.mean(h2)\n",
    "print(\"The mean is \" + str(meanH2))\n",
    "stdevH2 = np.std(h2)\n",
    "print(\"The standard deviation is \" + str(stdevH2))"
   ]
  },
  {
   "cell_type": "markdown",
   "metadata": {},
   "source": [
    "So far, the means are incredibly close to zero and we have a unit variances."
   ]
  },
  {
   "cell_type": "code",
   "execution_count": 183,
   "metadata": {
    "collapsed": false
   },
   "outputs": [
    {
     "name": "stdout",
     "output_type": "stream",
     "text": [
      "Sum of standardized products is 465.710577293\n",
      "The coefficient of correlation is 0.467111913032\n"
     ]
    }
   ],
   "source": [
    "# Now lets build standardized arrays for h1 and h2 that will help us find the correlation coefficient.\n",
    "z1 = []\n",
    "z2 = []\n",
    "\n",
    "for i in range(0,998):\n",
    "    z1.append((h1[i]-meanH1)/stdevH1)\n",
    "    z2.append((h2[i]-meanH2)/stdevH2)\n",
    "\n",
    "# Now multiply the corresponding values\n",
    "z = []\n",
    "for i in range(0,998):\n",
    "    z.append(z1[i]*z2[i])\n",
    "zsum = np.sum(z)\n",
    "print(\"Sum of standardized products is \" + str(zsum))\n",
    "rho = zsum/((len(z))-1)\n",
    "print(\"The coefficient of correlation is \" + str(rho))"
   ]
  },
  {
   "cell_type": "markdown",
   "metadata": {},
   "source": [
    "We have shown arithmetically that the bivariate Gaussian distribution between the RVs h1 and h2 are zero mean with unit variances and a correlation coefficient very close to 0.5!\n",
    "\n",
    "Source for Calculating Correlation Coefficient: https://www.thoughtco.com/how-to-calculate-the-correlation-coefficient-3126228"
   ]
  },
  {
   "cell_type": "markdown",
   "metadata": {},
   "source": [
    "## 2.\n",
    "Perform a QQ plot for the realizations of the random variable h1 to show that they follow a Gaussian\n",
    "distribution, N(0,1). To this end, draw 1000 samples of size 999 data points for the random variable,\n",
    "h1; then plot the sample medians and the interquartile ranges on a 2-dimensional graph versus the 999\n",
    "quantiles of the Gaussian distribution, N(0,1). The interquartile ranges are displayed using vertical bars\n",
    "for each of the quantiles. Discuss the results."
   ]
  },
  {
   "cell_type": "code",
   "execution_count": 184,
   "metadata": {
    "collapsed": false
   },
   "outputs": [
    {
     "data": {
      "image/png": "[encoded data removed]",
      "text/plain": [
       "<matplotlib.figure.Figure at 0xb45a748>"
      ]
     },
     "metadata": {},
     "output_type": "display_data"
    }
   ],
   "source": [
    "# First we use the scipy statistics library to make the plot and use pylab to plot it.\n",
    "import pylab\n",
    "import scipy.stats as stats\n",
    "\n",
    "stats.probplot(h1, dist=\"norm\", plot=pylab)\n",
    "pylab.title(\"Q-Q Plot\")\n",
    "pylab.show()"
   ]
  },
  {
   "cell_type": "markdown",
   "metadata": {},
   "source": [
    "As demonstrated, h1 does seem to follow a Gaussian normal distribution of N(0,1). Let's draw this 1000 more times. However, we're only really concerned with the medians and the IQR for each value along the 999 value sets, so let's retrieve those instead of massive amounts of data."
   ]
  },
  {
   "cell_type": "code",
   "execution_count": 185,
   "metadata": {
    "collapsed": false
   },
   "outputs": [],
   "source": [
    "# Lets create a function that will make h1 using the seed as a differentiator.\n",
    "def buildH(x1):\n",
    "    # First build the h1 value\n",
    "    y1 = boxMully1(7**5, 2**31-1, 0, x1, 1000)\n",
    "    y2 = boxMully2(7**5, 2**31-1, 0, x1, 1000)\n",
    "    y = np.column_stack((y1,y2))\n",
    "    h = constructH(y)\n",
    "    h1 = []\n",
    "    for i in range(0, len(y1)-1):\n",
    "        h1.append(h[i][0])\n",
    "    h1.sort()\n",
    "    return h1\n",
    "\n",
    "# Now lets create a function that will build as many instances of h1 as we need, seeding from 0 to n\n",
    "# As long as n is less than the orginal m, this should work!\n",
    "def hSet(n):\n",
    "    set = []\n",
    "    for i in range(1, n+1):\n",
    "        set.append(buildH(i))\n",
    "        i = i+1\n",
    "    return set\n",
    "\n",
    "# Now lets create a function that will iterate through all the sets and retrieve a list of medians and their associated IQR for each value of h1!\n",
    "def medqq(n):\n",
    "    # generate set of h1\n",
    "    temp = hSet(n)\n",
    "    # transpose said set\n",
    "    temp2 = np.transpose(temp)\n",
    "    # create sets of median, q1, and q3\n",
    "    temp3 = []\n",
    "    for i in range(0, len(temp2)-1):\n",
    "        temp3.append([np.median(temp2[i]), np.percentile(temp2[i],25), np.percentile(temp2[i],75)])\n",
    "        i = i+1\n",
    "    return temp3"
   ]
  },
  {
   "cell_type": "code",
   "execution_count": 186,
   "metadata": {
    "collapsed": false
   },
   "outputs": [],
   "source": [
    "# Now that we've built all that, lets build our set of 1000 points and plot it.\n",
    "# Just for fun, we'll time it while we're at it and maybe improve our functions with some parallelization later.\n",
    "\n",
    "# Returns dataset of medians\n",
    "def retMed(n):\n",
    "    medianData = []\n",
    "    for i in range(0,len(n)):\n",
    "        medianData.append(n[i][0])\n",
    "        i = i+1\n",
    "    return medianData\n",
    "\n",
    "# Returns dataset of first quarters from IQR\n",
    "def retQ1(n):\n",
    "    q1Data = []\n",
    "    for i in range(0,len(n)):\n",
    "        q1Data.append(n[i][1])\n",
    "        i = i+1\n",
    "    return q1Data\n",
    "\n",
    "# Returns dataset of third quarters from IQR\n",
    "def retQ3(n):\n",
    "    q3Data = []\n",
    "    for i in range(0,len(n)):\n",
    "        q3Data.append(n[i][2])\n",
    "        i = i+1\n",
    "    return q3Data\n",
    "\n",
    "# Returns all 3 of the previously mentioned, for brevity.\n",
    "def retAll(n):\n",
    "    med = retMed(n)\n",
    "    q1 = retQ1(n)\n",
    "    q2 = retQ3(n)\n",
    "    return([med, q1, q2])\n"
   ]
  },
  {
   "cell_type": "code",
   "execution_count": 187,
   "metadata": {
    "collapsed": false
   },
   "outputs": [
    {
     "data": {
      "image/png": "[encoded data removed]",
      "text/plain": [
       "<matplotlib.figure.Figure at 0xb4705f8>"
      ]
     },
     "metadata": {},
     "output_type": "display_data"
    }
   ],
   "source": [
    "# Now that we've retrieved the median of these,\n",
    "n = 1000\n",
    "data = medqq(n)\n",
    "x = retMed(data)\n",
    "y = retQ1(data)\n",
    "z = retQ3(data)\n",
    "\n",
    "stats.probplot(x, dist=\"norm\", plot=pylab)\n",
    "pylab.title(\"Q-Q Plot\")\n",
    "pylab.show()"
   ]
  },
  {
   "cell_type": "code",
   "execution_count": 188,
   "metadata": {
    "collapsed": false
   },
   "outputs": [
    {
     "data": {
      "image/png": "[encoded data removed]",
      "text/plain": [
       "<matplotlib.figure.Figure at 0xb3a8860>"
      ]
     },
     "metadata": {},
     "output_type": "display_data"
    }
   ],
   "source": [
    "# We can plot the quartiles agains the medians we've retrieved quite easily!\n",
    "# For all plots, green is Q3, orange is the median, and blue is Q1\n",
    "# Python libraries like matplotlib do not have the best support for more detailed statistics on quartile mapping.\n",
    "# Will request more features related.\n",
    "plt.scatter(x, x, s = 0.1)\n",
    "plt.scatter(x, y, s = 0.1)\n",
    "plt.scatter(x, z, s = 0.1)\n",
    "plt.show()"
   ]
  },
  {
   "cell_type": "code",
   "execution_count": 189,
   "metadata": {
    "collapsed": false
   },
   "outputs": [
    {
     "data": {
      "image/png": "[encoded data removed]",
      "text/plain": [
       "<matplotlib.figure.Figure at 0xd02c668>"
      ]
     },
     "metadata": {},
     "output_type": "display_data"
    }
   ],
   "source": [
    "# This doesn't seem all that useful in my opinion, so lets view it a little closer near the ends and just view the differences\n",
    "y2 = []\n",
    "z2 = []\n",
    "for i in range(0, len(x)):\n",
    "    y2.append(x[i]-y[i])\n",
    "    z2.append(x[i]-z[i])\n",
    "    i = i + 1\n",
    "\n",
    "# First let's see the spread of points between -4.0 and -1.5\n",
    "plt.scatter(x, y, s = 2)\n",
    "plt.scatter(x, x, s = 2)\n",
    "plt.scatter(x, z, s = 2)\n",
    "plt.axis([-4,-1.5, -4, -1.5])\n",
    "plt.show()"
   ]
  },
  {
   "cell_type": "code",
   "execution_count": 190,
   "metadata": {
    "collapsed": false
   },
   "outputs": [
    {
     "data": {
      "image/png": "[encoded data removed]",
      "text/plain": [
       "<matplotlib.figure.Figure at 0x83679b0>"
      ]
     },
     "metadata": {},
     "output_type": "display_data"
    }
   ],
   "source": [
    "# Now lets see the spread of points between -1.5 and 1.5\n",
    "plt.scatter(x, y, s = 0.5)\n",
    "plt.scatter(x, x, s = 0.5)\n",
    "plt.scatter(x, z, s = 0.5)\n",
    "plt.axis([-1.5,1.5, -1.5, 1.5])\n",
    "plt.show()"
   ]
  },
  {
   "cell_type": "code",
   "execution_count": 191,
   "metadata": {
    "collapsed": false
   },
   "outputs": [
    {
     "data": {
      "image/png": "[encoded data removed]",
      "text/plain": [
       "<matplotlib.figure.Figure at 0x8148e10>"
      ]
     },
     "metadata": {},
     "output_type": "display_data"
    }
   ],
   "source": [
    "# And finally lets see the spread of points between 1.5 and 4.0\n",
    "plt.scatter(x, y, s = 2)\n",
    "plt.scatter(x, x, s = 2)\n",
    "plt.scatter(x, z, s = 2)\n",
    "plt.axis([1.5,4.0, 1.5, 4.0])\n",
    "plt.show()"
   ]
  },
  {
   "cell_type": "markdown",
   "metadata": {},
   "source": [
    "As demonstrated by the comparison plots, gaussian random variables generated by a random number functions can more effectively follow the probability distribution of a true gaussian random variable when you plot the median values of an ever-growing number of sets."
   ]
  },
  {
   "cell_type": "markdown",
   "metadata": {},
   "source": [
    "## 3. \n",
    "Implement the projection algorithm described in Chapter 6, Part 3, pp. 357-360 of the class notes.\n",
    "Perform a QQ plot to show that the squared projection statistics obey a chi-squared distribution with 2\n",
    "degrees of freedom when the 2 random variables, h1 and h2, follow a bivariate Gaussian distribution\n",
    "with zero means, unit variances and a correlation 0.5 (see Question 1). To this end, draw 1000 samples\n",
    "of size 999 data points of the projection statistics; then plot the sample medians and the interquartile\n",
    "ranges on a 2-dimensional graph versus the 999 quantiles of the Gaussian distribution, N(0,1). The\n",
    "interquartile ranges are displayed using vertical bars for each of the quantiles. Discuss the results."
   ]
  },
  {
   "cell_type": "code",
   "execution_count": 192,
   "metadata": {
    "collapsed": false
   },
   "outputs": [
    {
     "name": "stdout",
     "output_type": "stream",
     "text": [
      "[-0.10932706101267728, -0.001093767229951756]\n"
     ]
    }
   ],
   "source": [
    "# Calculate M for h1 and h2\n",
    "# We'll perform the projection on h1 and h2 from problem 1 to help build/verify our functions.\n",
    "\n",
    "# We calculate M. This will return a two element set.\n",
    "def M(h1,h2):\n",
    "    m1 = np.median(h1)\n",
    "    m2 = np.median(h2)\n",
    "    return([m1, m2])\n",
    "\n",
    "print(M(h1,h2))"
   ]
  },
  {
   "cell_type": "code",
   "execution_count": 193,
   "metadata": {
    "collapsed": false
   },
   "outputs": [],
   "source": [
    "# Then we find the uj set for hj. This will be a set of two elements, n times.\n",
    "def U(h1, h2):\n",
    "    M1 = M(h1,h2)\n",
    "    u1 = []\n",
    "    u2 = []\n",
    "    for i in range(0, len(h1)-1):\n",
    "        u1.append(h1[i] - M1[0])\n",
    "        u2.append(h2[i] - M1[1])\n",
    "        i = i+1\n",
    "    return([u1,u2])"
   ]
  },
  {
   "cell_type": "code",
   "execution_count": 194,
   "metadata": {
    "collapsed": false
   },
   "outputs": [],
   "source": [
    "# Then we can find the vectors of each element in U.\n",
    "# Lets create a function to find magnitude of two elements.\n",
    "def mag(h1, h2):\n",
    "    mg = np.sqrt(h1**2 + h2**2)\n",
    "    return mg\n",
    "\n",
    "# Then lets apply that function        \n",
    "def V(h1, h2):\n",
    "    U1 = U(h1,h2)\n",
    "    v1 = []\n",
    "    v2 = []\n",
    "    for i in range(0, len(h1)):\n",
    "        v1.append(h1[i]/mag(h1[i],h2[i]))\n",
    "        v2.append(h2[i]/mag(h1[i],h2[i]))\n",
    "        i = i + 1\n",
    "    return([v1,v2])"
   ]
  },
  {
   "cell_type": "code",
   "execution_count": 195,
   "metadata": {
    "collapsed": false
   },
   "outputs": [],
   "source": [
    "# We can then find z values by applying a dot matrix multiplication to all h elements with v\n",
    "# First reconstruct h as a set of two elements n times.\n",
    "def recH(h1,h2):\n",
    "    h = []\n",
    "    for i in range(0,len(h1)-1):\n",
    "        h.append([h1[i],h2[i]])\n",
    "    return h\n",
    "\n",
    "# Then apply this function to retrieve a set of one z value for each set of h1,h2 values\n",
    "def Z(h1,h2):\n",
    "    V1 = V(h1,h2)\n",
    "    h = recH(h1,h2)\n",
    "    Z1 = []\n",
    "    for i in range(0, len(h1)-1):\n",
    "        Z1.append(np.dot(h[i],(V1[0][i],V1[1][i])))\n",
    "        i = i + 1\n",
    "    return Z1"
   ]
  },
  {
   "cell_type": "code",
   "execution_count": 196,
   "metadata": {
    "collapsed": false
   },
   "outputs": [],
   "source": [
    "# Next, we find the median of our Z RV and find projection from the MAD\n",
    "\n",
    "def madZ(Z1, n, m):\n",
    "    c = 1 + 15/(m-n)\n",
    "    med = np.median(Z1)\n",
    "    temp = []\n",
    "    for i in range(0,len(Z1)-1):\n",
    "        temp.append(abs(Z1[i]-med))\n",
    "    tempMed = np.median(temp)\n",
    "    mad = 1.4825*c*tempMed\n",
    "    return (mad,med)\n",
    "\n",
    "def projP(Z1, n, m):\n",
    "    proj = []\n",
    "    temp = madZ(Z1, n, m)\n",
    "    mad = temp[0]\n",
    "    med = temp[1]\n",
    "    for i in range(0, len(Z1)-1):\n",
    "        proj.append((abs(Z1[i]-med)/mad))\n",
    "        i = i+1\n",
    "    return proj"
   ]
  },
  {
   "cell_type": "code",
   "execution_count": 197,
   "metadata": {
    "collapsed": true
   },
   "outputs": [],
   "source": [
    "# Lets combine it all together\n",
    "def buildPs(x1, m):\n",
    "    y1 = boxMully1(7**5, 2**31-1, 0, x1, m)\n",
    "    y2 = boxMully2(7**5, 2**31-1, 0, x1, m)\n",
    "    y = np.column_stack((y1,y2))\n",
    "    h = constructH(y)\n",
    "    h1 = []\n",
    "    h2 = []\n",
    "    for i in range(0, m-2):\n",
    "        h1.append(h[i][0])\n",
    "        i = i + 1\n",
    "    for i in range(0, m-2):\n",
    "        h2.append(h[i][1])\n",
    "        i = i + 1\n",
    "    \n",
    "    z = Z(h1,h2)\n",
    "    \n",
    "    proj = projP(z, 2, m)\n",
    "    \n",
    "    return proj"
   ]
  },
  {
   "cell_type": "code",
   "execution_count": 198,
   "metadata": {
    "collapsed": false
   },
   "outputs": [
    {
     "data": {
      "image/png": "[encoded data removed]",
      "text/plain": [
       "<matplotlib.figure.Figure at 0x835e1d0>"
      ]
     },
     "metadata": {},
     "output_type": "display_data"
    }
   ],
   "source": [
    "# Lets create 1 set of projections.\n",
    "data2 = buildPs(1, 1000)\n",
    "data2.sort()\n",
    "\n",
    "# Let's plot this data against a known set of chi-squared RVs with df=2 to check the fit.\n",
    "r = stats.chi2.rvs(2, size=996)\n",
    "r.sort()\n",
    "r = r**0.5\n",
    "plt.scatter(r, data2)\n",
    "plt.show()"
   ]
  },
  {
   "cell_type": "code",
   "execution_count": 199,
   "metadata": {
    "collapsed": false
   },
   "outputs": [
    {
     "data": {
      "image/png": "[encoded data removed]",
      "text/plain": [
       "<matplotlib.figure.Figure at 0x82feb38>"
      ]
     },
     "metadata": {},
     "output_type": "display_data"
    }
   ],
   "source": [
    "# Lets try again but limit the range without obvious outliers.\n",
    "plt.scatter(r, data2)\n",
    "plt.axis([0,4.0, 0, 5.0])\n",
    "plt.show()"
   ]
  },
  {
   "cell_type": "code",
   "execution_count": 200,
   "metadata": {
    "collapsed": false
   },
   "outputs": [],
   "source": [
    "# Now we're here to test out median-based smoothing, so lets perform a similar method to the previous question.\n",
    "t = 1000\n",
    "data3 = []\n",
    "for i in range(1, t):\n",
    "    data3.append(buildPs(i,1000))\n",
    "    i = i + 1\n",
    "for i in range(0, t-1):\n",
    "    data3[i].sort()\n",
    "    i = i + 1\n",
    "data4 = np.transpose(data3)\n",
    "data5 = []\n",
    "for i in range(0,len(data3)-4):\n",
    "    data5.append([np.median(data4[i]), np.percentile(data4[i],25), np.percentile(data4[i],75)])\n",
    "    i = i+1\n",
    "\n",
    "med5 = retMed(data5)\n",
    "q15 = retQ1(data5)\n",
    "q35 = retQ3(data5)"
   ]
  },
  {
   "cell_type": "code",
   "execution_count": 201,
   "metadata": {
    "collapsed": false
   },
   "outputs": [
    {
     "data": {
      "image/png": "[encoded data removed]",
      "text/plain": [
       "<matplotlib.figure.Figure at 0x80f0ac8>"
      ]
     },
     "metadata": {},
     "output_type": "display_data"
    }
   ],
   "source": [
    "# Let's plot this data against a known set of chi-squared RVs with df=2 to check the fit.\n",
    "# The fit does seem better, but isn't quite there yet. It would likely become a better fit with even more data projections!\n",
    "r2 = stats.chi2.rvs(2, size=995)\n",
    "r2.sort()\n",
    "r2 = r2**0.5\n",
    "plt.scatter(r2, med5)\n",
    "plt.show()"
   ]
  },
  {
   "cell_type": "code",
   "execution_count": 202,
   "metadata": {
    "collapsed": false
   },
   "outputs": [
    {
     "data": {
      "image/png": "[encoded data removed]",
      "text/plain": [
       "<matplotlib.figure.Figure at 0x82a4cc0>"
      ]
     },
     "metadata": {},
     "output_type": "display_data"
    }
   ],
   "source": [
    "# We can also plot the Q1 and Q3 against the median of the projections.\n",
    "# For all plots, green is Q3, orange is the median, and blue is Q1\n",
    "plt.scatter(med5, med5, s =0.5)\n",
    "plt.scatter(med5, q15, s=0.5)\n",
    "plt.scatter(med5, q35, s=0.5)\n",
    "plt.show()"
   ]
  },
  {
   "cell_type": "markdown",
   "metadata": {},
   "source": [
    "As is demonstrated, as the projections are farther from 0, the quartile ranges are significantly farther from the median values. This would be a good indicator of outliers at these points."
   ]
  },
  {
   "cell_type": "markdown",
   "metadata": {},
   "source": [
    "## 4. \n",
    "Replace n data-points with outliers by increasing the magnitude of their h values and identify the\n",
    "outliers using a statistical test applied to the projections statistics. Repeat this procedure for an\n",
    "increasing number of outliers, n =1, 2, 3,…,v. Determine the maximum fraction of outliers that can be\n",
    "identified by this method."
   ]
  },
  {
   "cell_type": "code",
   "execution_count": 203,
   "metadata": {
    "collapsed": true
   },
   "outputs": [],
   "source": [
    "# First step is to make a set of projection statistics.\n",
    "# However, lets make it so that we can make a set # of h elements obvious additional obvious outliers.\n",
    "def buildPsHout(x1, m, hOut):\n",
    "    y1 = boxMully1(7**5, 2**31-1, 0, x1, m)\n",
    "    y2 = boxMully2(7**5, 2**31-1, 0, x1, m)\n",
    "    y = np.column_stack((y1,y2))\n",
    "    h = constructH(y)\n",
    "    h1 = []\n",
    "    h2 = []\n",
    "    for i in range(0, m-2):\n",
    "        h1.append(h[i][0])\n",
    "        i = i + 1\n",
    "        \n",
    "    # In the h1 set, set some of the initial values to obvious outliers\n",
    "    for i in range(0, hOut-1):\n",
    "        h1[i] = 10000\n",
    "        i = i +1\n",
    "\n",
    "    for i in range(0, m-2):\n",
    "        h2.append(h[i][1])\n",
    "        i = i + 1\n",
    "    z = Z(h1,h2)\n",
    "    proj = projP(z, 2, m)\n",
    "    return proj"
   ]
  },
  {
   "cell_type": "markdown",
   "metadata": {},
   "source": [
    "For these tests, we are looking for outliers outside of what should be $PS_{i} > \\sqrt{X_{0.025}^{2}}$ for a chi-square distribution. From the following [table](http://sites.stat.psu.edu/~mga/401/tables/Chi-square-table.pdf) we've determined that value to be 7.378, which is actually a squared projection so we're only looking for projections above it's root which is ~2.7166."
   ]
  },
  {
   "cell_type": "code",
   "execution_count": 204,
   "metadata": {
    "collapsed": false
   },
   "outputs": [
    {
     "name": "stdout",
     "output_type": "stream",
     "text": [
      "This test has retrieved 25 outliers. Success!\n"
     ]
    }
   ],
   "source": [
    "# Like before, lets make these projections, but we're not so concerned with retrieving medians from large sets.\n",
    "# Instead lets just create a set and apply a statistical test to see if the outlier is caught.\n",
    "\n",
    "# Lets make an initial test to see how many outliers are caught without changing anything in a projection\n",
    "# Since we're starting with 1000, if it retrieves 25 outliers, it's a success!\n",
    "test1 = buildPs(1, 1000)\n",
    "testResult1 = []\n",
    "for i in test1:\n",
    "    if (i > 2.7166): testResult1.append(i)\n",
    "print(\"This test has retrieved \" +str(len(testResult1)) + \" outliers. Success!\")"
   ]
  },
  {
   "cell_type": "code",
   "execution_count": 205,
   "metadata": {
    "collapsed": false
   },
   "outputs": [
    {
     "name": "stdout",
     "output_type": "stream",
     "text": [
      "With 0 elements changed, the number of outliers is 25\n",
      "With 1 elements changed, the number of outliers is 25\n",
      "With 2 elements changed, the number of outliers is 25\n",
      "With 3 elements changed, the number of outliers is 25\n",
      "With 4 elements changed, the number of outliers is 26\n",
      "With 5 elements changed, the number of outliers is 26\n",
      "With 6 elements changed, the number of outliers is 26\n",
      "With 7 elements changed, the number of outliers is 27\n",
      "With 8 elements changed, the number of outliers is 28\n",
      "With 9 elements changed, the number of outliers is 29\n"
     ]
    }
   ],
   "source": [
    "# Now lets make an iterative test function that uses our new buildPsHout function to change a growing number of h element to outliers.\n",
    "def pStatTest(start, end):\n",
    "    for i in range(start ,end):\n",
    "        test2 = buildPsHout(1, 1000, i)\n",
    "        testResult2 = []\n",
    "        for x in test2:\n",
    "            if (x > 2.7166): testResult2.append(i)\n",
    "        print(\"With \" + str(i) + \" elements changed, the number of outliers is \" + str(len(testResult2)))\n",
    "\n",
    "# Just to prove it's working, lets run the function for a fairly small initial range.\n",
    "pStatTest(0, 10)"
   ]
  },
  {
   "cell_type": "markdown",
   "metadata": {},
   "source": [
    "It seems to be working so far! Now, according to class discussion, we purposed that this estimation method should \"break\" if about half of the data is an outlier, which would make sense. Lets perform the same test around the a small range of the median number of points."
   ]
  },
  {
   "cell_type": "code",
   "execution_count": 206,
   "metadata": {
    "collapsed": false
   },
   "outputs": [
    {
     "name": "stdout",
     "output_type": "stream",
     "text": [
      "With 495 elements changed, the number of outliers is 494\n",
      "With 496 elements changed, the number of outliers is 495\n",
      "With 497 elements changed, the number of outliers is 496\n",
      "With 498 elements changed, the number of outliers is 497\n",
      "With 499 elements changed, the number of outliers is 0\n",
      "With 500 elements changed, the number of outliers is 497\n",
      "With 501 elements changed, the number of outliers is 496\n",
      "With 502 elements changed, the number of outliers is 495\n",
      "With 503 elements changed, the number of outliers is 494\n",
      "With 504 elements changed, the number of outliers is 493\n"
     ]
    }
   ],
   "source": [
    "pStatTest(495, 505)"
   ]
  },
  {
   "cell_type": "markdown",
   "metadata": {},
   "source": [
    "As expected, the estimator breaks and starts going backwards in terms of determining outliers once it passes the median mark of 498 (instructions were to make 999 data points but to the construction of the previous functions, it happend to fall on 996. I believe the point is till valid even with 3 less points)."
   ]
  }
 ],
 "metadata": {
  "anaconda-cloud": {},
  "kernelspec": {
   "display_name": "Python [conda root]",
   "language": "python",
   "name": "conda-root-py"
  },
  "language_info": {
   "codemirror_mode": {
    "name": "ipython",
    "version": 3
   },
   "file_extension": ".py",
   "mimetype": "text/x-python",
   "name": "python",
   "nbconvert_exporter": "python",
   "pygments_lexer": "ipython3",
   "version": "3.5.2"
  }
 },
 "nbformat": 4,
 "nbformat_minor": 1
}
