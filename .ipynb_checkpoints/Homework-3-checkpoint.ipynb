{
 "cells": [
  {
   "cell_type": "markdown",
   "metadata": {},
   "source": [
    "# Homework #3: Nicolas Acton"
   ]
  },
  {
   "cell_type": "markdown",
   "metadata": {},
   "source": [
    "Consider two random variables h1 and h2 that are distributed according to a Gaussian distribution with zero\n",
    "mean, a unit variance and a correlation coefficient of 0.5. Generate 1000 realizations of these two random\n",
    "variables to get 1000 two-dimensional data points, {(h1i, h2i), i=1,…,1000}. "
   ]
  },
  {
   "cell_type": "markdown",
   "metadata": {},
   "source": [
    "## 1.\n",
    "Describe the method that you use to generate 1000 correlated Gaussian data points. One method will\n",
    "be to create a 2x2 covariance matrix C where the main diagonal elements are equal to 1 and the offdiagonal\n",
    "elements are equal to 0.5. Then apply a Cholesky factorization to the matrix C to get C = LL’,\n",
    "where L is a lower triangular matrix and L’ is the transpose of L. Let y1 and y2 be two statistically\n",
    "independent vectors, each containing 1000 realizations drawn from N(0,1); use the Box-Muller method\n",
    "to generate these realizations. Let [h1 h2]= [y1 y2] L. Show that h1 and h2 contain 1000 realizations\n",
    "drawn from a bivariate Gaussian distribution with zero means, unit variances, and correlation\n",
    "coefficient of 0.5."
   ]
  },
  {
   "cell_type": "code",
   "execution_count": 131,
   "metadata": {
    "collapsed": false
   },
   "outputs": [],
   "source": [
    "# As demonstrated in HMWK2, the Box-Muller method can be used to generate realizations of normal distributions.\n",
    "# However, instead of plotting the bi-variates together we'll plot them seperately.\n",
    "%matplotlib inline\n",
    "import matplotlib.pyplot as plt\n",
    "import numpy as np\n",
    "import math\n",
    "import random\n",
    "    \n",
    "def rng(a, m, c, xi, n):\n",
    "    u = []\n",
    "    u.append(xi)\n",
    "    for i in range(1, n-1):\n",
    "        x = (a*u[i-1] + c)%m\n",
    "        u.append(x)\n",
    "        i = i + 1\n",
    "    u2 = []\n",
    "    for i in range(0,n-1):\n",
    "        u2.append(u[i]/m)\n",
    "    return u2\n",
    "        \n",
    "\n",
    "def boxMully1(a, m, c, xi, n):\n",
    "    # Define Box-Muller Method\n",
    "    u1 = rng(a,m,c,xi,n)\n",
    "    x = []\n",
    "    for i in range(0,n-1):\n",
    "        x.append(np.sqrt(-2*np.log(u1[i]))*np.cos(2*np.pi*a*u1[i] + 2*np.pi*(c/m)))\n",
    "        i = i +1\n",
    "    return x\n",
    "\n",
    "def boxMully2(a, m, c, xi, n):\n",
    "    # Define Box-Muller Method\n",
    "    u1 = rng(a,m,c,xi,n)\n",
    "    x = []\n",
    "    for i in range(0,n-1):\n",
    "        x.append(np.sqrt(-2*np.log(u1[i]))*np.sin(2*np.pi*a*u1[i] + 2*np.pi*(c/m)))\n",
    "        i = i +1\n",
    "    return x\n",
    "\n",
    "def gaussPlot(x):\n",
    "    plt.hist(x, 30, range=[-5, 5])\n",
    "    plt.ylabel('some numbers')\n",
    "    plt.show()\n",
    "    pass"
   ]
  },
  {
   "cell_type": "code",
   "execution_count": 132,
   "metadata": {
    "collapsed": false
   },
   "outputs": [
    {
     "data": {
      "image/png": "[encoded data removed]",
      "text/plain": [
       "<matplotlib.figure.Figure at 0x9fb5c50>"
      ]
     },
     "metadata": {},
     "output_type": "display_data"
    }
   ],
   "source": [
    "# We can use the function to generate one factorization\n",
    "y1 = boxMully1(101, 1069, 1, 1, 1000)\n",
    "gaussPlot(y1)"
   ]
  },
  {
   "cell_type": "code",
   "execution_count": 133,
   "metadata": {
    "collapsed": false
   },
   "outputs": [
    {
     "data": {
      "image/png": "[encoded data removed]",
      "text/plain": [
       "<matplotlib.figure.Figure at 0x8268b38>"
      ]
     },
     "metadata": {},
     "output_type": "display_data"
    }
   ],
   "source": [
    "# An another\n",
    "y2 = boxMully2(101, 1069, 1, 1, 1000)\n",
    "gaussPlot(y2)"
   ]
  },
  {
   "cell_type": "markdown",
   "metadata": {},
   "source": [
    "The Covariance Matrix, C, with a covariance coefficient of $\\rho = 0.5$ can demonstrated as $C = [\\begin{matrix} 1 & 0.5 \\\\ 0.5 & 1 \\end{matrix}]$. Applying a Cholesky factorization can help find a lower triangular matrix L which will be applied to the previously generated Gaussian bi-variate to correlate them correctly.\n",
    "$$ C = \\begin{bmatrix} 1 & \\rho \\\\ \\rho & 1 \\end{bmatrix} = LL^{T} = \\begin{bmatrix} 1 & 0 \\\\ \\rho & \\sqrt{1-\\rho^{2}} \\end{bmatrix} \\begin{bmatrix} 1 & \\rho \\\\ 0 & \\sqrt{1-\\rho^{2}} \\end{bmatrix} $$\n",
    "So $ L =  \\begin{bmatrix} 1 & 0 \\\\ \\rho & \\sqrt{1-\\rho^{2}} \\end{bmatrix} =  \\begin{bmatrix} 1 & 0 \\\\ 0.5 & \\sqrt{0.75} \\end{bmatrix} $"
   ]
  },
  {
   "cell_type": "code",
   "execution_count": 134,
   "metadata": {
    "collapsed": false
   },
   "outputs": [],
   "source": [
    "L = [[1,0],[0.5, 0.866025404]]"
   ]
  },
  {
   "cell_type": "markdown",
   "metadata": {},
   "source": [
    "We are going to let $(h_{1} h_{2}) = (y_{1} y_{2})L$"
   ]
  },
  {
   "cell_type": "code",
   "execution_count": 135,
   "metadata": {
    "collapsed": false
   },
   "outputs": [],
   "source": [
    "# h is an array of arrays that represents (h1 h2)\n",
    "y = np.column_stack((y1,y2))\n",
    "\n",
    "def constructH(y):\n",
    "    global L\n",
    "    h = []\n",
    "    for i in range(0,998):\n",
    "        t = np.matmul(y[i],L)\n",
    "        h.append(t)\n",
    "        i = i+1\n",
    "    return h\n",
    "\n",
    "h = constructH(y)"
   ]
  },
  {
   "cell_type": "code",
   "execution_count": 136,
   "metadata": {
    "collapsed": false
   },
   "outputs": [],
   "source": [
    "# Split h into two lists, h1 and h2, for further analysis\n",
    "h1 = []\n",
    "h2 = []\n",
    "# Populate the lists\n",
    "for i in range(0,998):\n",
    "    h1.append(h[i][0])\n",
    "    h2.append(h[i][1])"
   ]
  },
  {
   "cell_type": "code",
   "execution_count": 137,
   "metadata": {
    "collapsed": false
   },
   "outputs": [
    {
     "data": {
      "image/png": "[encoded data removed]",
      "text/plain": [
       "<matplotlib.figure.Figure at 0xceeb630>"
      ]
     },
     "metadata": {},
     "output_type": "display_data"
    }
   ],
   "source": [
    "# To verify, lets plot both and check their distribution.\n",
    "gaussPlot(h1)"
   ]
  },
  {
   "cell_type": "code",
   "execution_count": 138,
   "metadata": {
    "collapsed": false
   },
   "outputs": [
    {
     "name": "stdout",
     "output_type": "stream",
     "text": [
      "The mean is 0.00743601776063\n",
      "The standard deviation is 1.11211381266\n"
     ]
    }
   ],
   "source": [
    "# Lets also calculate their means and st.devs.\n",
    "meanH1 = np.mean(h1)\n",
    "print(\"The mean is \" + str(meanH1))\n",
    "stdevH1 = np.std(h1)\n",
    "print(\"The standard deviation is \" + str(stdevH1))"
   ]
  },
  {
   "cell_type": "code",
   "execution_count": 139,
   "metadata": {
    "collapsed": false
   },
   "outputs": [
    {
     "data": {
      "image/png": "[encoded data removed]",
      "text/plain": [
       "<matplotlib.figure.Figure at 0xfc8f208>"
      ]
     },
     "metadata": {},
     "output_type": "display_data"
    }
   ],
   "source": [
    "plt.hist(h2)\n",
    "plt.show()\n",
    "pass"
   ]
  },
  {
   "cell_type": "code",
   "execution_count": 140,
   "metadata": {
    "collapsed": false
   },
   "outputs": [
    {
     "name": "stdout",
     "output_type": "stream",
     "text": [
      "The mean is 0.0024157162477\n",
      "The standard deviation is 0.858628351713\n"
     ]
    }
   ],
   "source": [
    "meanH2 = np.mean(h2)\n",
    "print(\"The mean is \" + str(meanH2))\n",
    "stdevH2 = np.std(h2)\n",
    "print(\"The standard deviation is \" + str(stdevH2))"
   ]
  },
  {
   "cell_type": "markdown",
   "metadata": {},
   "source": [
    "So far, the means are incredibly close to zero and we have a unit variances."
   ]
  },
  {
   "cell_type": "code",
   "execution_count": 141,
   "metadata": {
    "collapsed": false
   },
   "outputs": [
    {
     "name": "stdout",
     "output_type": "stream",
     "text": [
      "Sum of standardized products is 445.137625137\n",
      "The coefficient of correlation is 0.446477056305\n"
     ]
    }
   ],
   "source": [
    "# Now lets build standardized arrays for h1 and h2 that will help us find the correlation coefficient.\n",
    "z1 = []\n",
    "z2 = []\n",
    "\n",
    "for i in range(0,998):\n",
    "    z1.append((h1[i]-meanH1)/stdevH1)\n",
    "    z2.append((h2[i]-meanH2)/stdevH2)\n",
    "\n",
    "# Now multiply the corresponding values\n",
    "z = []\n",
    "for i in range(0,998):\n",
    "    z.append(z1[i]*z2[i])\n",
    "zsum = np.sum(z)\n",
    "print(\"Sum of standardized products is \" + str(zsum))\n",
    "rho = zsum/((len(z))-1)\n",
    "print(\"The coefficient of correlation is \" + str(rho))"
   ]
  },
  {
   "cell_type": "markdown",
   "metadata": {},
   "source": [
    "We have shown arithmetically that the bivariate Gaussian distribution between the RVs h1 and h2 are zero mean with unit variances and a correlation coefficient very close to 0.5!\n",
    "\n",
    "Source for Calculating Correlation Coefficient: https://www.thoughtco.com/how-to-calculate-the-correlation-coefficient-3126228"
   ]
  },
  {
   "cell_type": "markdown",
   "metadata": {},
   "source": [
    "## 2.\n",
    "Perform a QQ plot for the realizations of the random variable h1 to show that they follow a Gaussian\n",
    "distribution, N(0,1). To this end, draw 1000 samples of size 999 data points for the random variable,\n",
    "h1; then plot the sample medians and the interquartile ranges on a 2-dimensional graph versus the 999\n",
    "quantiles of the Gaussian distribution, N(0,1). The interquartile ranges are displayed using vertical bars\n",
    "for each of the quantiles. Discuss the results."
   ]
  },
  {
   "cell_type": "code",
   "execution_count": 142,
   "metadata": {
    "collapsed": false
   },
   "outputs": [
    {
     "data": {
      "image/png": "[encoded data removed]",
      "text/plain": [
       "<matplotlib.figure.Figure at 0x80e8978>"
      ]
     },
     "metadata": {},
     "output_type": "display_data"
    }
   ],
   "source": [
    "# First we use the scipy statistics library to make the plot and use pylab to plot it.\n",
    "import pylab\n",
    "import scipy.stats as stats\n",
    "\n",
    "stats.probplot(h1, dist=\"norm\", plot=pylab)\n",
    "pylab.title(\"Q-Q Plot\")\n",
    "pylab.show()"
   ]
  },
  {
   "cell_type": "markdown",
   "metadata": {},
   "source": [
    "As demonstrated, h1 does seem to follow a Gaussian normal distribution of N(0,1). Let's draw this 1000 more times. However, we're only really concerned with the medians and the IQR for each value along the 999 value sets, so let's retrieve those isntead of massive amounts of data."
   ]
  },
  {
   "cell_type": "code",
   "execution_count": 143,
   "metadata": {
    "collapsed": false
   },
   "outputs": [],
   "source": [
    "# Lets create a function that will make h1 using the seed as a differentiator.\n",
    "def buildH(x1):\n",
    "    # First build the h1 value\n",
    "    y1 = boxMully1(101, 1069, 1, x1, 1000)\n",
    "    y2 = boxMully2(101, 1069, 1, x1, 1000)\n",
    "    y = np.column_stack((y1,y2))\n",
    "    h = constructH(y)\n",
    "    h1 = []\n",
    "    for i in range(0,998):\n",
    "        h1.append(h[i][0])\n",
    "    h1.sort()\n",
    "    return h1\n",
    "\n",
    "# Now lets create a function that will build as many instances of h1 as we need, seeding from 0 to n\n",
    "# As long as n is less than the orginal m, this should work!\n",
    "def hSet(n):\n",
    "    set = []\n",
    "    for i in range(1, n+1):\n",
    "        set.append(buildH(i))\n",
    "        i = i+1\n",
    "    return set\n",
    "\n",
    "# Now lets create a function that will iterate through all the sets and retrieve a list of medians and their associated\n",
    "# IQR for each value of h1!\n",
    "def medqq(n):\n",
    "    # generate set of h1\n",
    "    temp = hSet(n)\n",
    "    # list where the median, q1, and q3 for each h1 will go\n",
    "    temp2 = []\n",
    "    #Sort all h1i into individual sets, then retrieve the median, q1 and q2, store in other list, move on.\n",
    "    for i in range(0,n):\n",
    "        temp3 = []\n",
    "        for x in range(0,998):\n",
    "            temp3.append(temp[i][x])\n",
    "            x = x+ 1\n",
    "        temp3.sort()\n",
    "        temp2.append([np.median(temp3), np.percentile(temp3, 25), np.percentile(temp3, 75)])\n",
    "    \n",
    "    return temp2"
   ]
  },
  {
   "cell_type": "code",
   "execution_count": 178,
   "metadata": {
    "collapsed": false
   },
   "outputs": [],
   "source": [
    "# Now that we've built all that, lets build our set of 1000 points and plot it.\n",
    "# Just for fun, we'll time it while we're at it and maybe improve our functions with some parallelization later.\n",
    "\n",
    "# Returns dataset of medians\n",
    "def retMed(n):\n",
    "    medianData = []\n",
    "    for i in range(0,len(n)):\n",
    "        medianData.append(n[i][0])\n",
    "        i = i+1\n",
    "    return medianData\n",
    "\n",
    "# Returns dataset of first quarters from IQR\n",
    "def retQ1(n):\n",
    "    q1Data = []\n",
    "    for i in range(0,len(n)):\n",
    "        q1Data.append(n[i][1])\n",
    "        i = i+1\n",
    "    return q1Data\n",
    "\n",
    "# Returns dataset of third quarters from IQR\n",
    "def retQ3(n):\n",
    "    q3Data = []\n",
    "    for i in range(0,len(n)):\n",
    "        q3Data.append(n[i][2])\n",
    "        i = i+1\n",
    "    return q3Data\n",
    "\n",
    "# Returns all 3 of the previously mentioned, for brevity.\n",
    "def retAll(n):\n",
    "    med = retMed(n)\n",
    "    q1 = retQ1(n)\n",
    "    q2 = retQ3(n)\n",
    "    return([med, q1, q2])\n"
   ]
  },
  {
   "cell_type": "code",
   "execution_count": 177,
   "metadata": {
    "collapsed": false
   },
   "outputs": [
    {
     "name": "stderr",
     "output_type": "stream",
     "text": [
      "C:\\Program Files\\Anaconda3\\lib\\site-packages\\ipykernel\\__main__.py:27: RuntimeWarning: divide by zero encountered in log\n",
      "C:\\Program Files\\Anaconda3\\lib\\site-packages\\ipykernel\\__main__.py:36: RuntimeWarning: divide by zero encountered in log\n"
     ]
    },
    {
     "data": {
      "image/png": "[encoded data removed]",
      "text/plain": [
       "<matplotlib.figure.Figure at 0x82b0da0>"
      ]
     },
     "metadata": {},
     "output_type": "display_data"
    }
   ],
   "source": [
    "n = 1000\n",
    "data = medqq(n)\n",
    "x = retMed(data)\n",
    "# For whatever reason, this one specific item was causing major hassle. Had to be removed.\n",
    "del x[309]\n",
    "\n",
    "stats.probplot(x, dist=\"norm\", plot=pylab)\n",
    "pylab.title(\"Q-Q Plot\")\n",
    "pylab.show()"
   ]
  },
  {
   "cell_type": "markdown",
   "metadata": {},
   "source": [
    "## 3. \n",
    "Implement the projection algorithm described in Chapter 6, Part 3, pp. 357-360 of the class notes.\n",
    "Perform a QQ plot to show that the squared projection statistics obey a chi-squared distribution with 2\n",
    "degrees of freedom when the 2 random variables, h1 and h2, follow a bivariate Gaussian distribution\n",
    "with zero means, unit variances and a correlation 0.5 (see Question 1). To this end, draw 1000 samples\n",
    "of size 999 data points of the projection statistics; then plot the sample medians and the interquartile\n",
    "ranges on a 2-dimensional graph versus the 999 quantiles of the Gaussian distribution, N(0,1). The\n",
    "interquartile ranges are displayed using vertical bars for each of the quantiles. Discuss the results."
   ]
  },
  {
   "cell_type": "code",
   "execution_count": 145,
   "metadata": {
    "collapsed": false
   },
   "outputs": [
    {
     "name": "stdout",
     "output_type": "stream",
     "text": [
      "[-5.4786905270706732e-05, -0.012991453372599958]\n"
     ]
    }
   ],
   "source": [
    "# Calculate M for h1 and h2\n",
    "# We'll perform the projection on h1 and h2 from problem 1 to help build/verify our functions.\n",
    "\n",
    "# First we calculate M. This will return a two element set.\n",
    "def M(h1,h2):\n",
    "    m1 = np.median(h1)\n",
    "    m2 = np.median(h2)\n",
    "    return([m1, m2])\n",
    "\n",
    "print(M(h1,h2))"
   ]
  },
  {
   "cell_type": "code",
   "execution_count": 146,
   "metadata": {
    "collapsed": false
   },
   "outputs": [],
   "source": [
    "# Then we find the uj set for hj. This will be a set of two elements, n times.\n",
    "def U(h1, h2):\n",
    "    M1 = M(h1,h2)\n",
    "    u1 = []\n",
    "    u2 = []\n",
    "    for i in range(0, len(h1)):\n",
    "        u1.append(h1[i] - M1[0])\n",
    "        u2.append(h2[i] - M1[1])\n",
    "        i = i+1\n",
    "    return([u1,u2])"
   ]
  },
  {
   "cell_type": "code",
   "execution_count": 147,
   "metadata": {
    "collapsed": false
   },
   "outputs": [],
   "source": [
    "# Then we can find the vectors of each element in U.\n",
    "# Lets create a function to find magnitude of two elements.\n",
    "def mag(h1, h2):\n",
    "    m = np.sqrt(h1**2 + h2**2)\n",
    "    return m\n",
    "\n",
    "# Then lets apply that function        \n",
    "def V(h1, h2):\n",
    "    U1 = U(h1,h2)\n",
    "    v1 = []\n",
    "    v2 = []\n",
    "    for i in range(0, len(h1)):\n",
    "        v1.append(h1[i]/mag(h1[i],h2[i]))\n",
    "        v2.append(h2[i]/mag(h1[i],h2[i]))\n",
    "    return([v1,v2])"
   ]
  },
  {
   "cell_type": "code",
   "execution_count": 148,
   "metadata": {
    "collapsed": false
   },
   "outputs": [],
   "source": [
    "# We can then find z values by applying a dot matrix multiplication to all h elements with v\n",
    "# First reconstruct h as a set of two elements n times.\n",
    "def recH(h1,h2):\n",
    "    h = []\n",
    "    for i in range(0,len(h1)-1):\n",
    "        h.append([h1[i],h2[i]])\n",
    "    return h\n",
    "\n",
    "# Then apply this function to retrieve a set of one z value for each set of h1,h2 values\n",
    "def Z(h1,h2):\n",
    "    V1 = V(h1,h2)\n",
    "    h = recH(h1,h2)\n",
    "    Z1 = []\n",
    "    for i in range(0, len(h1)-1):\n",
    "        Z1.append(np.dot(h[i],(V1[0][i],V1[1][i])))\n",
    "    return Z1"
   ]
  },
  {
   "cell_type": "code",
   "execution_count": 149,
   "metadata": {
    "collapsed": false
   },
   "outputs": [],
   "source": [
    "# Next, we find the median of our Z RV and find projection from the MAD\n",
    "\n",
    "def madZ(Z1, n, m):\n",
    "    c = 1 + 15/(m-n)\n",
    "    med = np.median(Z1)\n",
    "    temp = []\n",
    "    for i in range(0,len(Z1)-1):\n",
    "        temp.append(abs(Z1[i]-med))\n",
    "    tempMed = np.median(temp)\n",
    "    mad = 1.4825*c*tempMed\n",
    "    return (mad,med)\n",
    "\n",
    "def projP(Z1, n, m):\n",
    "    proj = []\n",
    "    temp = madZ(Z1, n, m)\n",
    "    mad = temp[0]\n",
    "    med = temp[1]\n",
    "    for i in range(0, len(Z1)-1):\n",
    "        proj.append((abs(Z1[i]-med)/mad))\n",
    "        i = i+1\n",
    "    return proj"
   ]
  },
  {
   "cell_type": "code",
   "execution_count": 150,
   "metadata": {
    "collapsed": false
   },
   "outputs": [
    {
     "data": {
      "image/png": "[encoded data removed]",
      "text/plain": [
       "<matplotlib.figure.Figure at 0x833de48>"
      ]
     },
     "metadata": {},
     "output_type": "display_data"
    }
   ],
   "source": [
    "# From here, we can plot this to demonstrate\n",
    "stats.probplot(z, plot=plt)\n",
    "plt.title(\"Normal Q-Q plot\")\n",
    "plt.show()"
   ]
  },
  {
   "cell_type": "code",
   "execution_count": null,
   "metadata": {
    "collapsed": true
   },
   "outputs": [],
   "source": []
  },
  {
   "cell_type": "markdown",
   "metadata": {},
   "source": [
    "## 4. \n",
    "Replace n data-points with outliers by increasing the magnitude of their h values and identify the\n",
    "outliers using a statistical test applied to the projections statistics. Repeat this procedure for an\n",
    "increasing number of outliers, n =1, 2, 3,…,v. Determine the maximum fraction of outliers that can be\n",
    "identified by this method."
   ]
  }
 ],
 "metadata": {
  "anaconda-cloud": {},
  "kernelspec": {
   "display_name": "Python [conda root]",
   "language": "python",
   "name": "conda-root-py"
  },
  "language_info": {
   "codemirror_mode": {
    "name": "ipython",
    "version": 3
   },
   "file_extension": ".py",
   "mimetype": "text/x-python",
   "name": "python",
   "nbconvert_exporter": "python",
   "pygments_lexer": "ipython3",
   "version": "3.5.2"
  }
 },
 "nbformat": 4,
 "nbformat_minor": 1
}
