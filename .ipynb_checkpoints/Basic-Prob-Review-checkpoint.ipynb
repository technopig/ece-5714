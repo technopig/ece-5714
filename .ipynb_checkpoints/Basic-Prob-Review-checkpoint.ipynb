{
 "cells": [
  {
   "cell_type": "markdown",
   "metadata": {},
   "source": [
    "# Basic Probability Review\n",
    "## From *Probabilistic Methods of Signal and System Analysis* by Cooper & McGillem\n",
    "\n",
    "### Chapter 1. Introduction to Probability\n",
    "#### Engineering Applications of Probability\n",
    "- One feature of probability: concerns itself with situations that involve uncertainty in some form (e.g. dice, drawing cards, roullette).\n",
    "- Probability is prevalent even in Physical \"laws\" at the microscopic level.\n",
    "    - Even v(t) = Ri(t) is not exactly true at every instant of time, as evidenced by observing current through high resistance with high-gain amplifiers.\n",
    "    - Physical laws are likely idealized cases that never arise in nature exactly.\n",
    "##### Types of Situations Requiring Application of Probability\n",
    "- **Random Input Signals** - Input signals acting on a system, in practice, usually have a certain amount of uncertainty and unpredictability to give it *randomness*.\n",
    "- **Random Disturbances** - Unwanted disturbances applied to a systems input or output in addition to desired signals. Examples include snaps/pops/crackles in high-gain amplitudes through speakers and noise received by antennae.\n",
    "- **Random System Characteristics** - System itself has characteristics that are unknown and vary in a random fashion. E.g. an electric power system in which load fluctuates randomly based on usage.\n",
    "- **System Reliability** - Components of a system fail, causing random outages and losses.\n",
    "- **Quality Control** - Instead of inspecting all pieces of a massive system, instead inspect elements selected at random.\n",
    "- **Information Theory** - Provide a quantitative measure for the information content of messages.\n",
    "\n",
    "#### Random Experiments and Events\n",
    "An ** Experiment** is some action that results in an *outcome*. A random experiment is one in which the outcome is uncertain before the experiment is performed.\n",
    "- Equally Likely - Coin toss, all options have same probability of outcome regardless of previous experiments.\n",
    "- Elementary Event - An event for which there is only one outcome: tossing a coin to obtain a side, rolling a die to obtain an integer.\n",
    "- Composite Event - An event for which there is more than one way it can be achieved: rolling a die to obtain an even number (3 possibilities (2, 4, 6)).\n",
    "When the number of events that are being performed are countable, outcomes are said to be **discrete**. When number of events are not-countable, such as reading an ever-changing voltage from a voltmeter, they are said to be **continuous**.\n",
    "\n",
    "#### Definitions of Probability\n"
   ]
  },
  {
   "cell_type": "code",
   "execution_count": null,
   "metadata": {
    "collapsed": true
   },
   "outputs": [],
   "source": []
  },
  {
   "cell_type": "code",
   "execution_count": null,
   "metadata": {
    "collapsed": true
   },
   "outputs": [],
   "source": []
  }
 ],
 "metadata": {
  "anaconda-cloud": {},
  "kernelspec": {
   "display_name": "Python [conda root]",
   "language": "python",
   "name": "conda-root-py"
  },
  "language_info": {
   "codemirror_mode": {
    "name": "ipython",
    "version": 3
   },
   "file_extension": ".py",
   "mimetype": "text/x-python",
   "name": "python",
   "nbconvert_exporter": "python",
   "pygments_lexer": "ipython3",
   "version": "3.5.2"
  }
 },
 "nbformat": 4,
 "nbformat_minor": 1
}
