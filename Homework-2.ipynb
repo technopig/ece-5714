{
 "cells": [
  {
   "cell_type": "markdown",
   "metadata": {},
   "source": [
    "# Homework #2: Nicolas Acton, ECE-5714"
   ]
  },
  {
   "cell_type": "markdown",
   "metadata": {},
   "source": [
    "### Problem 3\n",
    "Implement a linear congruential random generator and study the periodicity and the nonlinear dependencies that may exist among the generated sequence of numbers as the parameters a and M are changed while c is set equal to either 0 or 1. To this end, plot and investigate the patterns of the points (Xi , Yi) obtained by applying the Box-Muller transformation defined by  \n",
    "$$ X_{i} = \\sqrt{-2ln(U_{i})} cos(2\\pi a U_{i} + 2\\pi c/M) $$\n",
    "$$ Y_{i} = \\sqrt{-2ln(U_{i})} sin(2\\pi a U_{i} + 2\\pi c/M) $$  \n",
    "where {Ui, i = i, ..., m} are i.i.d. sequences following a uniform distribution over (0,1)."
   ]
  },
  {
   "cell_type": "code",
   "execution_count": 172,
   "metadata": {
    "collapsed": false
   },
   "outputs": [
    {
     "data": {
      "image/png": "[encoded data removed]",
      "text/plain": [
       "<matplotlib.figure.Figure at 0x111c07588>"
      ]
     },
     "metadata": {},
     "output_type": "display_data"
    }
   ],
   "source": [
    "# Be sure to install these packages! $ conda install \"package names\"\n",
    "import numpy as np\n",
    "import math\n",
    "import seaborn as sns\n",
    "\n",
    "n = 100\n",
    "u1 = np.random.random(n)\n",
    "u2 = np.random.random(n)\n",
    "r_squared = -2*np.log(u1)\n",
    "r = np.sqrt(r_squared)\n",
    "theta = 2*np.pi*u2\n",
    "x = r*np.cos(theta)\n",
    "y = r*np.sin(theta)\n",
    "\n",
    "sns.jointplot(x, y, kind='scatter')\n",
    "pass"
   ]
  },
  {
   "cell_type": "code",
   "execution_count": null,
   "metadata": {
    "collapsed": true
   },
   "outputs": [],
   "source": []
  },
  {
   "cell_type": "markdown",
   "metadata": {},
   "source": [
    "### Problem 4\n",
    "In the mid 1970s researchers isolated beta-endorphin, a morphinelike chemical found in the human brain, and discovered that people have higher levels of it in their blood under conditions of emotional stress. Under the presumed stress of impending surgery, most patients had a higher endorphin level. The recorded values of endorphin level 10 minutes before surgery for 19 patients are {6.5, 14.0, 13.5, 18.0, 14.5, 9.0, 18.0, 42.0, 7.5, 6.0, 25.0, 12.0, 52.0, 20.0, 16.0, 15.0, 11.5, 2.5, 2.0}\n",
    "\n",
    "**1)** Plot and analyze the histogram of this data set. Calculate the sample mean, the sample median and the midpoint of the shortest half of the sample. Calculate the sample standard-deviation, the MAD, and S = 1.4826 LHS/2, where LHS stands for the length of the shortest half. Put $b_{m} = 1$ when calculating MAD and S."
   ]
  },
  {
   "cell_type": "code",
   "execution_count": 173,
   "metadata": {
    "collapsed": false
   },
   "outputs": [
    {
     "data": {
      "text/html": [
       "<div>\n",
       "<table border=\"1\" class=\"dataframe\">\n",
       "  <thead>\n",
       "    <tr style=\"text-align: right;\">\n",
       "      <th></th>\n",
       "      <th>0</th>\n",
       "      <th>1</th>\n",
       "      <th>2</th>\n",
       "      <th>3</th>\n",
       "      <th>4</th>\n",
       "      <th>5</th>\n",
       "      <th>6</th>\n",
       "      <th>7</th>\n",
       "      <th>8</th>\n",
       "      <th>9</th>\n",
       "      <th>10</th>\n",
       "      <th>11</th>\n",
       "      <th>12</th>\n",
       "      <th>13</th>\n",
       "      <th>14</th>\n",
       "      <th>15</th>\n",
       "      <th>16</th>\n",
       "      <th>17</th>\n",
       "      <th>18</th>\n",
       "    </tr>\n",
       "  </thead>\n",
       "  <tbody>\n",
       "    <tr>\n",
       "      <th>0</th>\n",
       "      <td>2.0</td>\n",
       "      <td>2.5</td>\n",
       "      <td>6.0</td>\n",
       "      <td>6.5</td>\n",
       "      <td>7.5</td>\n",
       "      <td>9.0</td>\n",
       "      <td>11.5</td>\n",
       "      <td>12.0</td>\n",
       "      <td>13.5</td>\n",
       "      <td>14.0</td>\n",
       "      <td>14.5</td>\n",
       "      <td>15.0</td>\n",
       "      <td>16.0</td>\n",
       "      <td>18.0</td>\n",
       "      <td>18.0</td>\n",
       "      <td>20.0</td>\n",
       "      <td>25.0</td>\n",
       "      <td>42.0</td>\n",
       "      <td>52.0</td>\n",
       "    </tr>\n",
       "  </tbody>\n",
       "</table>\n",
       "</div>"
      ],
      "text/plain": [
       "    0    1    2    3    4    5     6     7     8     9     10    11    12  \\\n",
       "0  2.0  2.5  6.0  6.5  7.5  9.0  11.5  12.0  13.5  14.0  14.5  15.0  16.0   \n",
       "\n",
       "     13    14    15    16    17    18  \n",
       "0  18.0  18.0  20.0  25.0  42.0  52.0  "
      ]
     },
     "execution_count": 173,
     "metadata": {},
     "output_type": "execute_result"
    }
   ],
   "source": [
    "from pandas import DataFrame \n",
    "import pandas as pd\n",
    "import math\n",
    "\n",
    "# Dataset for patients' endorphin levels\n",
    "endoLevels = [6.5, 14.0, 13.5, 18.0, 14.5, 9.0, 18.0, 42.0, 7.5, 6.0, 25.0, 12.0, 52.0, 20.0, 16.0, 15.0, 11.5, 2.5, 2.0]\n",
    "# For simplicity of analysis, it's good to sort by ascending value\n",
    "endoLevels.sort()\n",
    "\n",
    "# We'll define set size m here which will be useful later\n",
    "m = len(endoLevels)\n",
    "\n",
    "# Show data in a table (sanity check)\n",
    "df = pd.DataFrame(data = endoLevels)\n",
    "df.T"
   ]
  },
  {
   "cell_type": "code",
   "execution_count": 194,
   "metadata": {
    "collapsed": false
   },
   "outputs": [
    {
     "data": {
      "image/png": "[encoded data removed]",
      "text/plain": [
       "<matplotlib.figure.Figure at 0x112e1ad68>"
      ]
     },
     "metadata": {},
     "output_type": "display_data"
    }
   ],
   "source": [
    "import matplotlib.pyplot as plt\n",
    "%matplotlib inline\n",
    "\n",
    "# Plot endorphin levels as a histogram\n",
    "# Change 'bins' to make bin ranges larger or smaller\n",
    "plt.hist(endoLevels, bins=30)\n",
    "plt.show()"
   ]
  },
  {
   "cell_type": "code",
   "execution_count": 175,
   "metadata": {
    "collapsed": false
   },
   "outputs": [
    {
     "name": "stdout",
     "output_type": "stream",
     "text": [
      "Sample Mean is: 16.05\n"
     ]
    },
    {
     "data": {
      "text/html": [
       "<div>\n",
       "<table border=\"1\" class=\"dataframe\">\n",
       "  <thead>\n",
       "    <tr style=\"text-align: right;\">\n",
       "      <th></th>\n",
       "      <th>Value</th>\n",
       "      <th>diff from mean 16.05</th>\n",
       "    </tr>\n",
       "  </thead>\n",
       "  <tbody>\n",
       "    <tr>\n",
       "      <th>0</th>\n",
       "      <td>2.0</td>\n",
       "      <td>-14.05</td>\n",
       "    </tr>\n",
       "    <tr>\n",
       "      <th>1</th>\n",
       "      <td>2.5</td>\n",
       "      <td>-13.55</td>\n",
       "    </tr>\n",
       "    <tr>\n",
       "      <th>2</th>\n",
       "      <td>6.0</td>\n",
       "      <td>-10.05</td>\n",
       "    </tr>\n",
       "    <tr>\n",
       "      <th>3</th>\n",
       "      <td>6.5</td>\n",
       "      <td>-9.55</td>\n",
       "    </tr>\n",
       "    <tr>\n",
       "      <th>4</th>\n",
       "      <td>7.5</td>\n",
       "      <td>-8.55</td>\n",
       "    </tr>\n",
       "    <tr>\n",
       "      <th>5</th>\n",
       "      <td>9.0</td>\n",
       "      <td>-7.05</td>\n",
       "    </tr>\n",
       "    <tr>\n",
       "      <th>6</th>\n",
       "      <td>11.5</td>\n",
       "      <td>-4.55</td>\n",
       "    </tr>\n",
       "    <tr>\n",
       "      <th>7</th>\n",
       "      <td>12.0</td>\n",
       "      <td>-4.05</td>\n",
       "    </tr>\n",
       "    <tr>\n",
       "      <th>8</th>\n",
       "      <td>13.5</td>\n",
       "      <td>-2.55</td>\n",
       "    </tr>\n",
       "    <tr>\n",
       "      <th>9</th>\n",
       "      <td>14.0</td>\n",
       "      <td>-2.05</td>\n",
       "    </tr>\n",
       "    <tr>\n",
       "      <th>10</th>\n",
       "      <td>14.5</td>\n",
       "      <td>-1.55</td>\n",
       "    </tr>\n",
       "    <tr>\n",
       "      <th>11</th>\n",
       "      <td>15.0</td>\n",
       "      <td>-1.05</td>\n",
       "    </tr>\n",
       "    <tr>\n",
       "      <th>12</th>\n",
       "      <td>16.0</td>\n",
       "      <td>-0.05</td>\n",
       "    </tr>\n",
       "    <tr>\n",
       "      <th>13</th>\n",
       "      <td>18.0</td>\n",
       "      <td>1.95</td>\n",
       "    </tr>\n",
       "    <tr>\n",
       "      <th>14</th>\n",
       "      <td>18.0</td>\n",
       "      <td>1.95</td>\n",
       "    </tr>\n",
       "    <tr>\n",
       "      <th>15</th>\n",
       "      <td>20.0</td>\n",
       "      <td>3.95</td>\n",
       "    </tr>\n",
       "    <tr>\n",
       "      <th>16</th>\n",
       "      <td>25.0</td>\n",
       "      <td>8.95</td>\n",
       "    </tr>\n",
       "    <tr>\n",
       "      <th>17</th>\n",
       "      <td>42.0</td>\n",
       "      <td>25.95</td>\n",
       "    </tr>\n",
       "    <tr>\n",
       "      <th>18</th>\n",
       "      <td>52.0</td>\n",
       "      <td>35.95</td>\n",
       "    </tr>\n",
       "  </tbody>\n",
       "</table>\n",
       "</div>"
      ],
      "text/plain": [
       "    Value  diff from mean 16.05\n",
       "0     2.0                -14.05\n",
       "1     2.5                -13.55\n",
       "2     6.0                -10.05\n",
       "3     6.5                 -9.55\n",
       "4     7.5                 -8.55\n",
       "5     9.0                 -7.05\n",
       "6    11.5                 -4.55\n",
       "7    12.0                 -4.05\n",
       "8    13.5                 -2.55\n",
       "9    14.0                 -2.05\n",
       "10   14.5                 -1.55\n",
       "11   15.0                 -1.05\n",
       "12   16.0                 -0.05\n",
       "13   18.0                  1.95\n",
       "14   18.0                  1.95\n",
       "15   20.0                  3.95\n",
       "16   25.0                  8.95\n",
       "17   42.0                 25.95\n",
       "18   52.0                 35.95"
      ]
     },
     "execution_count": 175,
     "metadata": {},
     "output_type": "execute_result"
    }
   ],
   "source": [
    "# Sample Mean\n",
    "sampleMean = sum(endoLevels)/len(endoLevels)\n",
    "print(\"Sample Mean is: \" + str(round(sampleMean,2)))\n",
    "\n",
    "# For later calculations, it is useful to create an array of deviations from the mean for each value.\n",
    "      \n",
    "diffMean = []\n",
    "for i in endoLevels:\n",
    "    diffMean.append((round(i-sampleMean,2)))\n",
    "dataDiffMean = {'Value': endoLevels, 'diff from mean 16.05': diffMean}\n",
    "dfDiffMean = pd.DataFrame(data=dataDiffMean)\n",
    "dfDiffMean"
   ]
  },
  {
   "cell_type": "code",
   "execution_count": 176,
   "metadata": {
    "collapsed": false
   },
   "outputs": [
    {
     "name": "stdout",
     "output_type": "stream",
     "text": [
      "Variance is: 156.47\n",
      "Sample Standard Deviation is 12.51\n"
     ]
    }
   ],
   "source": [
    "# Standard Deviation\n",
    "## While we're on the Sample Mean, we might as well find it's estimator of scale, the standard-deviation.\n",
    "## First we find variance in discrete cases\n",
    "diffMeanSum= 0\n",
    "for i in diffMean:\n",
    "    diffMeanSum += i**2\n",
    "variance = 1/(m-1) * diffMeanSum\n",
    "print(\"Variance is: \" + str(round(variance,2)))\n",
    "stDev = math.sqrt(variance)\n",
    "print(\"Sample Standard Deviation is \" + str(round(stDev,2)))"
   ]
  },
  {
   "cell_type": "code",
   "execution_count": 177,
   "metadata": {
    "collapsed": false
   },
   "outputs": [
    {
     "name": "stdout",
     "output_type": "stream",
     "text": [
      "Sample Median is: 14.0\n"
     ]
    }
   ],
   "source": [
    "# Sample Median\n",
    "sampleMedian = endoLevels[9]\n",
    "print(\"Sample Median is: \" + str(sampleMedian))"
   ]
  },
  {
   "cell_type": "code",
   "execution_count": 185,
   "metadata": {
    "collapsed": false
   },
   "outputs": [
    {
     "data": {
      "text/html": [
       "<div>\n",
       "<table border=\"1\" class=\"dataframe\">\n",
       "  <thead>\n",
       "    <tr style=\"text-align: right;\">\n",
       "      <th></th>\n",
       "      <th>Value</th>\n",
       "      <th>diff from median 14</th>\n",
       "    </tr>\n",
       "  </thead>\n",
       "  <tbody>\n",
       "    <tr>\n",
       "      <th>0</th>\n",
       "      <td>2.0</td>\n",
       "      <td>12.0</td>\n",
       "    </tr>\n",
       "    <tr>\n",
       "      <th>1</th>\n",
       "      <td>2.5</td>\n",
       "      <td>11.5</td>\n",
       "    </tr>\n",
       "    <tr>\n",
       "      <th>2</th>\n",
       "      <td>6.0</td>\n",
       "      <td>8.0</td>\n",
       "    </tr>\n",
       "    <tr>\n",
       "      <th>3</th>\n",
       "      <td>6.5</td>\n",
       "      <td>7.5</td>\n",
       "    </tr>\n",
       "    <tr>\n",
       "      <th>4</th>\n",
       "      <td>7.5</td>\n",
       "      <td>6.5</td>\n",
       "    </tr>\n",
       "    <tr>\n",
       "      <th>5</th>\n",
       "      <td>9.0</td>\n",
       "      <td>5.0</td>\n",
       "    </tr>\n",
       "    <tr>\n",
       "      <th>6</th>\n",
       "      <td>11.5</td>\n",
       "      <td>2.5</td>\n",
       "    </tr>\n",
       "    <tr>\n",
       "      <th>7</th>\n",
       "      <td>12.0</td>\n",
       "      <td>2.0</td>\n",
       "    </tr>\n",
       "    <tr>\n",
       "      <th>8</th>\n",
       "      <td>13.5</td>\n",
       "      <td>0.5</td>\n",
       "    </tr>\n",
       "    <tr>\n",
       "      <th>9</th>\n",
       "      <td>14.0</td>\n",
       "      <td>0.0</td>\n",
       "    </tr>\n",
       "    <tr>\n",
       "      <th>10</th>\n",
       "      <td>14.5</td>\n",
       "      <td>0.5</td>\n",
       "    </tr>\n",
       "    <tr>\n",
       "      <th>11</th>\n",
       "      <td>15.0</td>\n",
       "      <td>1.0</td>\n",
       "    </tr>\n",
       "    <tr>\n",
       "      <th>12</th>\n",
       "      <td>16.0</td>\n",
       "      <td>2.0</td>\n",
       "    </tr>\n",
       "    <tr>\n",
       "      <th>13</th>\n",
       "      <td>18.0</td>\n",
       "      <td>4.0</td>\n",
       "    </tr>\n",
       "    <tr>\n",
       "      <th>14</th>\n",
       "      <td>18.0</td>\n",
       "      <td>4.0</td>\n",
       "    </tr>\n",
       "    <tr>\n",
       "      <th>15</th>\n",
       "      <td>20.0</td>\n",
       "      <td>6.0</td>\n",
       "    </tr>\n",
       "    <tr>\n",
       "      <th>16</th>\n",
       "      <td>25.0</td>\n",
       "      <td>11.0</td>\n",
       "    </tr>\n",
       "    <tr>\n",
       "      <th>17</th>\n",
       "      <td>42.0</td>\n",
       "      <td>28.0</td>\n",
       "    </tr>\n",
       "    <tr>\n",
       "      <th>18</th>\n",
       "      <td>52.0</td>\n",
       "      <td>38.0</td>\n",
       "    </tr>\n",
       "  </tbody>\n",
       "</table>\n",
       "</div>"
      ],
      "text/plain": [
       "    Value  diff from median 14\n",
       "0     2.0                 12.0\n",
       "1     2.5                 11.5\n",
       "2     6.0                  8.0\n",
       "3     6.5                  7.5\n",
       "4     7.5                  6.5\n",
       "5     9.0                  5.0\n",
       "6    11.5                  2.5\n",
       "7    12.0                  2.0\n",
       "8    13.5                  0.5\n",
       "9    14.0                  0.0\n",
       "10   14.5                  0.5\n",
       "11   15.0                  1.0\n",
       "12   16.0                  2.0\n",
       "13   18.0                  4.0\n",
       "14   18.0                  4.0\n",
       "15   20.0                  6.0\n",
       "16   25.0                 11.0\n",
       "17   42.0                 28.0\n",
       "18   52.0                 38.0"
      ]
     },
     "execution_count": 185,
     "metadata": {},
     "output_type": "execute_result"
    }
   ],
   "source": [
    "# Median-Absolute-Deviation (MAD)\n",
    "## While we're on the Sample Median, we might as well find it's estimator of scale, the MAD.\n",
    "## First, we find the absolute value of ri\n",
    "diffMedian = []\n",
    "for i in endoLevels:\n",
    "    diffMedian.append(abs((round(i-sampleMedian,2))))\n",
    "## We're going to sort this list later so it's useful for later calculations to keep an unsorted version.\n",
    "diffMedianUnsort = diffMedian\n",
    "\n",
    "dataDiffMedian = {'Value': endoLevels, 'diff from median 14': diffMedian}\n",
    "dfDiffMedian = pd.DataFrame(data=dataDiffMedian)\n",
    "dfDiffMedian"
   ]
  },
  {
   "cell_type": "code",
   "execution_count": 179,
   "metadata": {
    "collapsed": false
   },
   "outputs": [
    {
     "name": "stdout",
     "output_type": "stream",
     "text": [
      "med|ri| is [0.0, 0.5, 0.5, 1.0, 2.0, 2.0, 2.5, 4.0, 4.0, 5.0, 6.0, 6.5, 7.5, 8.0, 11.0, 11.5, 12.0, 28.0, 38.0]\n"
     ]
    },
    {
     "data": {
      "text/html": [
       "<div>\n",
       "<table border=\"1\" class=\"dataframe\">\n",
       "  <thead>\n",
       "    <tr style=\"text-align: right;\">\n",
       "      <th></th>\n",
       "      <th>0</th>\n",
       "      <th>1</th>\n",
       "      <th>2</th>\n",
       "      <th>3</th>\n",
       "      <th>4</th>\n",
       "      <th>5</th>\n",
       "      <th>6</th>\n",
       "      <th>7</th>\n",
       "      <th>8</th>\n",
       "      <th>9</th>\n",
       "      <th>10</th>\n",
       "      <th>11</th>\n",
       "      <th>12</th>\n",
       "      <th>13</th>\n",
       "      <th>14</th>\n",
       "      <th>15</th>\n",
       "      <th>16</th>\n",
       "      <th>17</th>\n",
       "      <th>18</th>\n",
       "    </tr>\n",
       "  </thead>\n",
       "  <tbody>\n",
       "    <tr>\n",
       "      <th>0</th>\n",
       "      <td>0.0</td>\n",
       "      <td>0.5</td>\n",
       "      <td>0.5</td>\n",
       "      <td>1.0</td>\n",
       "      <td>2.0</td>\n",
       "      <td>2.0</td>\n",
       "      <td>2.5</td>\n",
       "      <td>4.0</td>\n",
       "      <td>4.0</td>\n",
       "      <td>5.0</td>\n",
       "      <td>6.0</td>\n",
       "      <td>6.5</td>\n",
       "      <td>7.5</td>\n",
       "      <td>8.0</td>\n",
       "      <td>11.0</td>\n",
       "      <td>11.5</td>\n",
       "      <td>12.0</td>\n",
       "      <td>28.0</td>\n",
       "      <td>38.0</td>\n",
       "    </tr>\n",
       "  </tbody>\n",
       "</table>\n",
       "</div>"
      ],
      "text/plain": [
       "    0    1    2    3    4    5    6    7    8    9    10   11   12   13    14  \\\n",
       "0  0.0  0.5  0.5  1.0  2.0  2.0  2.5  4.0  4.0  5.0  6.0  6.5  7.5  8.0  11.0   \n",
       "\n",
       "     15    16    17    18  \n",
       "0  11.5  12.0  28.0  38.0  "
      ]
     },
     "execution_count": 179,
     "metadata": {},
     "output_type": "execute_result"
    }
   ],
   "source": [
    "## We can then sort the data to find the median of these differences.\n",
    "diffMedian.sort()\n",
    "dfmedian = pd.DataFrame(data = diffMedian)\n",
    "print(\"med|ri| is \" + str(diffMedian))\n",
    "dfmedian.T"
   ]
  },
  {
   "cell_type": "code",
   "execution_count": 180,
   "metadata": {
    "collapsed": false
   },
   "outputs": [
    {
     "name": "stdout",
     "output_type": "stream",
     "text": [
      "The MAD is 7.41\n"
     ]
    }
   ],
   "source": [
    "## The MAD is defined by 1.4826*bm*med|ri|; in this case, bm has been given as 1\n",
    "bm = 1\n",
    "mad = 1.4826*bm*diffMedian[9]\n",
    "print(\"The MAD is \" + str(round(mad,2)))"
   ]
  },
  {
   "cell_type": "code",
   "execution_count": 181,
   "metadata": {
    "collapsed": false
   },
   "outputs": [
    {
     "name": "stdout",
     "output_type": "stream",
     "text": [
      "The length between points 0 and 9 is: 12.0\n",
      "The length between points 1 and 10 is: 12.0\n",
      "The length between points 2 and 11 is: 9.0\n",
      "The length between points 3 and 12 is: 9.5\n",
      "The length between points 4 and 13 is: 10.5\n",
      "The length between points 5 and 14 is: 9.0\n",
      "The length between points 6 and 15 is: 8.5\n",
      "The length between points 7 and 16 is: 13.0\n",
      "The length between points 8 and 17 is: 28.5\n",
      "The length between points 9 and 18 is: 38.0\n",
      "The shortest half is 8.5 between values 11.5 and 20.0\n"
     ]
    }
   ],
   "source": [
    "# Finding Length of the Shortest Half\n",
    "## In this instance, since endoLevels is a set of m = 19, z will be 10\n",
    "## Initiate values for calculation\n",
    "i = 0\n",
    "lengthList = []\n",
    "\n",
    "# Print a list of lenghts between sets of z = 10\n",
    "z=10\n",
    "\n",
    "while(i < z):\n",
    "    length = endoLevels[i+9] - endoLevels[i]\n",
    "    print(\"The length between points \" + str(i) + \" and \" + str(i+(z-1)) + \" is: \" + str(length))\n",
    "    lengthList.append(length)\n",
    "    i = i + 1\n",
    "\n",
    "# Find the shortest half of all listed lengths and print the values where it occurs.\n",
    "sh =  min(lengthList)\n",
    "beginPoint = endoLevels[lengthList.index(sh)]\n",
    "endPoint = endoLevels[lengthList.index(sh)+(z-1)]\n",
    "print(\"The shortest half is \" + str(sh) + \" between values \" + str(beginPoint) + \" and \" + str(endPoint))"
   ]
  },
  {
   "cell_type": "code",
   "execution_count": 182,
   "metadata": {
    "collapsed": false
   },
   "outputs": [
    {
     "name": "stdout",
     "output_type": "stream",
     "text": [
      "Midpoint of the shortest half is 15.75\n"
     ]
    }
   ],
   "source": [
    "## From here we can find the midpoint of the shortest half easily.\n",
    "midpoint = (beginPoint + endPoint)/2\n",
    "print(\"Midpoint of the shortest half is \" + str(midpoint))"
   ]
  },
  {
   "cell_type": "code",
   "execution_count": 195,
   "metadata": {
    "collapsed": false
   },
   "outputs": [
    {
     "name": "stdout",
     "output_type": "stream",
     "text": [
      "The scale estimator for LSH is 6.3\n"
     ]
    }
   ],
   "source": [
    "# Scale based on LSH\n",
    "## While on the LSH, we can find the estimator of scale for it, defined as S\n",
    "S = 1.4826*bm*(sh/2)\n",
    "print(\"The scale estimator for LSH is \" + str(round(S,2)))"
   ]
  },
  {
   "cell_type": "code",
   "execution_count": 213,
   "metadata": {
    "collapsed": false
   },
   "outputs": [
    {
     "data": {
      "image/png": "[encoded data removed]",
      "text/plain": [
       "<matplotlib.figure.Figure at 0x112820ba8>"
      ]
     },
     "metadata": {},
     "output_type": "display_data"
    }
   ],
   "source": [
    "# Just for reference, let's replot with mean, median, and LSH shown.\n",
    "import matplotlib.patches as mpatches\n",
    "\n",
    "# Change 'bins' to make bin ranges larger or smaller\n",
    "plt.hist(endoLevels, bins=30)\n",
    "# Plot the mean as a dashed lined\n",
    "plt.axvline(sampleMean, color='red', linestyle='solid', linewidth=1.5)\n",
    "plt.axvline(sampleMedian, color='black', linestyle='solid', linewidth=1.5)\n",
    "plt.axvline(midpoint, color='blue', linestyle='solid', linewidth=1.5)\n",
    "red_patch = mpatches.Patch(color='red', label='Mean')\n",
    "black_patch = mpatches.Patch(color='black', label='Median')\n",
    "blue_patch = mpatches.Patch(color='blue', label='midpoint of SH')\n",
    "plt.legend(handles=[red_patch, black_patch, blue_patch])\n",
    "plt.show()\n",
    "\n",
    "## Just by visualizing the data, it is fairly obvious that points beyond 40 are significant outliers!"
   ]
  },
  {
   "cell_type": "markdown",
   "metadata": {},
   "source": [
    "**2)** Identify the outliers by using both the classical and a robust residual test. Discuss the results."
   ]
  },
  {
   "cell_type": "code",
   "execution_count": 190,
   "metadata": {
    "collapsed": false
   },
   "outputs": [
    {
     "data": {
      "text/html": [
       "<div>\n",
       "<table border=\"1\" class=\"dataframe\">\n",
       "  <thead>\n",
       "    <tr style=\"text-align: right;\">\n",
       "      <th></th>\n",
       "      <th>Value</th>\n",
       "      <th>Classical</th>\n",
       "      <th>Robust</th>\n",
       "    </tr>\n",
       "  </thead>\n",
       "  <tbody>\n",
       "    <tr>\n",
       "      <th>0</th>\n",
       "      <td>2.0</td>\n",
       "      <td>1.123</td>\n",
       "      <td>1.619</td>\n",
       "    </tr>\n",
       "    <tr>\n",
       "      <th>1</th>\n",
       "      <td>2.5</td>\n",
       "      <td>1.083</td>\n",
       "      <td>1.551</td>\n",
       "    </tr>\n",
       "    <tr>\n",
       "      <th>2</th>\n",
       "      <td>6.0</td>\n",
       "      <td>0.803</td>\n",
       "      <td>1.079</td>\n",
       "    </tr>\n",
       "    <tr>\n",
       "      <th>3</th>\n",
       "      <td>6.5</td>\n",
       "      <td>0.763</td>\n",
       "      <td>1.012</td>\n",
       "    </tr>\n",
       "    <tr>\n",
       "      <th>4</th>\n",
       "      <td>7.5</td>\n",
       "      <td>0.684</td>\n",
       "      <td>0.877</td>\n",
       "    </tr>\n",
       "    <tr>\n",
       "      <th>5</th>\n",
       "      <td>9.0</td>\n",
       "      <td>0.564</td>\n",
       "      <td>0.674</td>\n",
       "    </tr>\n",
       "    <tr>\n",
       "      <th>6</th>\n",
       "      <td>11.5</td>\n",
       "      <td>0.364</td>\n",
       "      <td>0.337</td>\n",
       "    </tr>\n",
       "    <tr>\n",
       "      <th>7</th>\n",
       "      <td>12.0</td>\n",
       "      <td>0.324</td>\n",
       "      <td>0.270</td>\n",
       "    </tr>\n",
       "    <tr>\n",
       "      <th>8</th>\n",
       "      <td>13.5</td>\n",
       "      <td>0.204</td>\n",
       "      <td>0.067</td>\n",
       "    </tr>\n",
       "    <tr>\n",
       "      <th>9</th>\n",
       "      <td>14.0</td>\n",
       "      <td>0.164</td>\n",
       "      <td>0.000</td>\n",
       "    </tr>\n",
       "    <tr>\n",
       "      <th>10</th>\n",
       "      <td>14.5</td>\n",
       "      <td>0.124</td>\n",
       "      <td>0.067</td>\n",
       "    </tr>\n",
       "    <tr>\n",
       "      <th>11</th>\n",
       "      <td>15.0</td>\n",
       "      <td>0.084</td>\n",
       "      <td>0.135</td>\n",
       "    </tr>\n",
       "    <tr>\n",
       "      <th>12</th>\n",
       "      <td>16.0</td>\n",
       "      <td>0.004</td>\n",
       "      <td>0.270</td>\n",
       "    </tr>\n",
       "    <tr>\n",
       "      <th>13</th>\n",
       "      <td>18.0</td>\n",
       "      <td>0.156</td>\n",
       "      <td>0.540</td>\n",
       "    </tr>\n",
       "    <tr>\n",
       "      <th>14</th>\n",
       "      <td>18.0</td>\n",
       "      <td>0.156</td>\n",
       "      <td>0.540</td>\n",
       "    </tr>\n",
       "    <tr>\n",
       "      <th>15</th>\n",
       "      <td>20.0</td>\n",
       "      <td>0.316</td>\n",
       "      <td>0.809</td>\n",
       "    </tr>\n",
       "    <tr>\n",
       "      <th>16</th>\n",
       "      <td>25.0</td>\n",
       "      <td>0.715</td>\n",
       "      <td>1.484</td>\n",
       "    </tr>\n",
       "    <tr>\n",
       "      <th>17</th>\n",
       "      <td>42.0</td>\n",
       "      <td>2.075</td>\n",
       "      <td>3.777</td>\n",
       "    </tr>\n",
       "    <tr>\n",
       "      <th>18</th>\n",
       "      <td>52.0</td>\n",
       "      <td>2.874</td>\n",
       "      <td>5.126</td>\n",
       "    </tr>\n",
       "  </tbody>\n",
       "</table>\n",
       "</div>"
      ],
      "text/plain": [
       "    Value  Classical  Robust\n",
       "0     2.0      1.123   1.619\n",
       "1     2.5      1.083   1.551\n",
       "2     6.0      0.803   1.079\n",
       "3     6.5      0.763   1.012\n",
       "4     7.5      0.684   0.877\n",
       "5     9.0      0.564   0.674\n",
       "6    11.5      0.364   0.337\n",
       "7    12.0      0.324   0.270\n",
       "8    13.5      0.204   0.067\n",
       "9    14.0      0.164   0.000\n",
       "10   14.5      0.124   0.067\n",
       "11   15.0      0.084   0.135\n",
       "12   16.0      0.004   0.270\n",
       "13   18.0      0.156   0.540\n",
       "14   18.0      0.156   0.540\n",
       "15   20.0      0.316   0.809\n",
       "16   25.0      0.715   1.484\n",
       "17   42.0      2.075   3.777\n",
       "18   52.0      2.874   5.126"
      ]
     },
     "execution_count": 190,
     "metadata": {},
     "output_type": "execute_result"
    }
   ],
   "source": [
    "# Identifying Outliers (Classical vs Robust)\n",
    "## First, we can populate a dataset of classical tests (comparison of means and standard deviations)\n",
    "classicTest = []\n",
    "for i in diffMean:\n",
    "    test = (abs(i)/stDev)\n",
    "    classicTest.append(round(test,3))\n",
    "\n",
    "## Then we populate a dataset of the robust test relative to the MAD\n",
    "## Note, in order for this to work, please run the diffMedian cells again.\n",
    "robustMAD = []\n",
    "for i in diffMedianUnsort:\n",
    "    test = (abs(i))/mad\n",
    "    robustMAD.append(round(test,3))\n",
    "\n",
    "## We can populate both of these on a table to compare their ability to identify outliers.\n",
    "dataTests = {'Value': endoLevels, 'Classical': classicTest, 'Robust': robustMAD}\n",
    "dfTests = pd.DataFrame(data=dataTests)\n",
    "dfTests = dfTests[['Value','Classical','Robust']]\n",
    "dfTests"
   ]
  },
  {
   "cell_type": "code",
   "execution_count": 217,
   "metadata": {
    "collapsed": false
   },
   "outputs": [
    {
     "name": "stdout",
     "output_type": "stream",
     "text": [
      "[2.874]\n",
      "[3.777, 5.126]\n"
     ]
    }
   ],
   "source": [
    "# To clean this data up a little bit, lets standardize to only show data under a given threshold 2.57.\n",
    "\n",
    "classicTestClean = []\n",
    "for i in diffMean:\n",
    "    test = (abs(i)/stDev)\n",
    "    if test > 2.57: classicTestClean.append(round(test,3))\n",
    "print(classicTestClean)\n",
    "\n",
    "## Then we populate a dataset of the robust test relative to the MAD\n",
    "## Note, in order for this to work, please run the diffMedian cells again.\n",
    "robustMADClean = []\n",
    "for i in diffMedianUnsort:\n",
    "    test = (abs(i))/mad\n",
    "    if test > 2.57: robustMADClean.append(round(test,3))\n",
    "print(robustMADClean)"
   ]
  },
  {
   "cell_type": "markdown",
   "metadata": {},
   "source": [
    "For the classical method, only Endorphin levels of 52 are shown to be outliers to this data. By observation, it is fairly clear to see that the level of 42 is also an outlier for this sample set, but only Robust outlier rejection will catch it!"
   ]
  },
  {
   "cell_type": "code",
   "execution_count": null,
   "metadata": {
    "collapsed": true
   },
   "outputs": [],
   "source": []
  }
 ],
 "metadata": {
  "anaconda-cloud": {},
  "kernelspec": {
   "display_name": "Python [conda root]",
   "language": "python",
   "name": "conda-root-py"
  },
  "language_info": {
   "codemirror_mode": {
    "name": "ipython",
    "version": 3
   },
   "file_extension": ".py",
   "mimetype": "text/x-python",
   "name": "python",
   "nbconvert_exporter": "python",
   "pygments_lexer": "ipython3",
   "version": "3.5.2"
  }
 },
 "nbformat": 4,
 "nbformat_minor": 1
}
