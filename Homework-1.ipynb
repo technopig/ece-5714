{
 "cells": [
  {
   "cell_type": "markdown",
   "metadata": {},
   "source": [
    "# Homework #1 : Nicolas Acton, ECE-5714\n",
    "\n",
    "#1 Let X be a continuous RV following a cumulative probability distribution given by:\n",
    "$$ F(x) = \\begin{cases}\n",
    "    1-\\frac{1}{x^{2}}  & \\quad \\text{for} \\ x \\geq 1\\\\\n",
    "    0  & \\quad \\text{otherwise}\\\\\n",
    "  \\end{cases} $$\n",
    "  A. Derive the expression of the probability density function, f(x), and plot its graph.\n",
    "  \n",
    "  B. Find the probability of the event {X>a}.\n",
    "  \n",
    "  C. Calculate E[X] and E[X<sup>2</sup>]."
   ]
  },
  {
   "cell_type": "markdown",
   "metadata": {},
   "source": [
    "Answer:\n",
    "\n",
    "### 1.A.\n",
    "$$ F(x)_{x\\geq 1} = \\int^{x}_{1}f(u)du $$\n",
    "$$ f(u) = \\frac{2}{u^{3}} $$\n",
    "$$ \\int^{x}_{1}f(u)du = 1 - \\frac{1}{x^{2}} $$\n",
    "$$ f(x) = \\begin{cases}\n",
    "    \\frac{2}{x^{3}}  & \\quad \\text{for} \\ x \\geq 1\\\\\n",
    "    0  & \\quad \\text{otherwise}\\\\\n",
    "  \\end{cases} $$"
   ]
  },
  {
   "cell_type": "code",
   "execution_count": 1,
   "metadata": {
    "collapsed": false,
    "scrolled": true
   },
   "outputs": [
    {
     "data": {
      "image/png": "[encoded data removed]",
      "text/plain": [
       "<matplotlib.figure.Figure at 0x78226d8>"
      ]
     },
     "metadata": {},
     "output_type": "display_data"
    }
   ],
   "source": [
    "%matplotlib inline\n",
    "import matplotlib.pyplot as plt\n",
    "import numpy as np\n",
    "import math\n",
    "\n",
    "x = np.linspace(1, 5, 100000)\n",
    "y = (2/(x**3))\n",
    "plt.plot(x, y)\n",
    "plt.xlim(1,5)\n",
    "plt.xlabel('x')\n",
    "plt.ylim(0, 5)\n",
    "plt.ylabel('f(x)')\n",
    "plt.title('');"
   ]
  },
  {
   "cell_type": "markdown",
   "metadata": {},
   "source": [
    "### 1.B.\n",
    "1. $ P[X>a] = 1 - P[X \\leq a] $\n",
    "2. $ P[X \\leq a] = F(a) = 1 - \\frac{1}{a^{2}} $\n",
    "3. $ P[X>a] = 1 - [1 - \\frac{1}{a^{2}}] = \\frac{1}{a^{2}} \\ \\leftarrow$"
   ]
  },
  {
   "cell_type": "markdown",
   "metadata": {},
   "source": [
    "### 1.C.\n",
    "$$ E[X] = \\int^{\\infty}_{-\\infty}xf(x)dx = \\int^{\\infty}_{1}xf(x)dx + \\int^{1}_{-\\infty}xf(x)dx  $$\n",
    "\n",
    "$$ E[X] = \\int^{\\infty}_{1}x(2/x^{3})dx + \\int^{1}_{-\\infty}x(0)dx = -2/x|^{\\infty}_{1} = 0 - [-2] = 2 $$\n",
    "\n",
    "$$ E[X^{2}] = \\int^{\\infty}_{-\\infty}x^{2}f(x)dx = \\int^{\\infty}_{1}x^{2}f(x)dx + \\int^{1}_{-\\infty}x^{2}f(x)dx $$\n",
    "\n",
    "$$ E[X^{2}] = \\int^{\\infty}_{1}x^{2}(2/x^{3})dx + \\int^{1}_{-\\infty}x_{2}(0)dx = 2ln[|x|]|^{\\infty}_{1} = \\infty $$"
   ]
  },
  {
   "cell_type": "markdown",
   "metadata": {},
   "source": [
    "#2 Let X be a continuous non-negative RV following a probability distribution with cpdf F(x) and a pdf f(x). Prove the following expression:\n",
    "$$ E[X] = \\int^{\\infty}_{0} (1-F(t))dt $$\n",
    "Hint: Write the definition of E[X] and apply an  integration by parts."
   ]
  },
  {
   "cell_type": "markdown",
   "metadata": {
    "collapsed": true
   },
   "source": [
    "### 2\n",
    "$$ 1-F_{x}(x) = P(X\\geq x) = \\int^{\\infty}_{x}f_{x}(t)dt $$\n",
    "$$ \\int^{\\infty}_{0}(1-F(x))dx = \\int^{\\infty}_{0}P(X\\geq x)dx = \\int^{\\infty}_{0}\\int^{\\infty}_{x}f_{x}(t)dtdx $$\n",
    "$$ \\int^{\\infty}_{0}\\int^{\\infty}_{x}f_{x}(t)dtdx = \\int^{\\infty}_{0}\\int^{t}_{0}f_{x}(t)dxdt = \\int^{\\infty}_{0}[xf_{x}(t)]^{t}_{0}dt $$\n",
    "$$ = \\int^{\\infty}_{0}tf_{x}(t)dt; \\text{ replace t=x and dt=dx} $$\n",
    "$$ = \\int^{\\infty}_{0}xf_{x}(x)dx = E(X) \\text{ aka, definition of Expected Value} $$\n",
    "\n",
    "Source: https://en.wikipedia.org/wiki/Expected_value#Formulas_for_special_cases"
   ]
  },
  {
   "cell_type": "markdown",
   "metadata": {},
   "source": [
    "#3 Let X be a discrete non-negative random variable taking integer values, j = 0, 1, 2, ... Prove the following:\n",
    "$$ E[X] = \\sum^{\\infty}_{k=0}P[X>k] $$"
   ]
  },
  {
   "cell_type": "markdown",
   "metadata": {
    "collapsed": true
   },
   "source": [
    "### 3\n",
    "$$ E[X] = \\sum^{\\infty}_{k=0}P[X>k] = \\sum^{\\infty}_{k=1}\\sum^{\\infty}_{j=k+1}P(X=j) $$\n",
    "$$ = \\sum^{\\infty}_{j=0}\\sum^{j-1}_{k=0} P(X=j) = \\sum^{\\infty}_{j=0} jP(X=j) = E[X] $$"
   ]
  },
  {
   "cell_type": "markdown",
   "metadata": {},
   "source": [
    "#4 Suppose that light bulbs have exponentially distributed lifetimes with known mean E[Z]= $\\mu_{z}$. Suppose we measure the lifetime of m light bulbs and we calculate the sample mean, $\\bar{z}_{m}$. Find an upper bound to the probability of the event {$|\\bar{z}_{m} - \\mu | > a $}. Calculate the limit of that probability as m tends to infinity."
   ]
  },
  {
   "cell_type": "markdown",
   "metadata": {
    "collapsed": true
   },
   "source": [
    "### 4\n"
   ]
  }
 ],
 "metadata": {
  "anaconda-cloud": {},
  "kernelspec": {
   "display_name": "Python [conda root]",
   "language": "python",
   "name": "conda-root-py"
  },
  "language_info": {
   "codemirror_mode": {
    "name": "ipython",
    "version": 3
   },
   "file_extension": ".py",
   "mimetype": "text/x-python",
   "name": "python",
   "nbconvert_exporter": "python",
   "pygments_lexer": "ipython3",
   "version": "3.5.2"
  }
 },
 "nbformat": 4,
 "nbformat_minor": 1
}
