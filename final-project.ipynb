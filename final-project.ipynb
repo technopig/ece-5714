{
 "cells": [
  {
   "cell_type": "markdown",
   "metadata": {},
   "source": [
    "# Final Project Data Analysis\n",
    "### Data Cleaning\n",
    "For the final project a significant amount of data had to be analyzed. The data we will be analyzing was obtained from the console log of the web application and placed into a text file. For ease of integer parsing, the X, Y and time step of each value are not correlated and are simply listed in order. Correlating them together is part of the initial cleaning of data."
   ]
  },
  {
   "cell_type": "code",
   "execution_count": 1,
   "metadata": {
    "collapsed": true
   },
   "outputs": [],
   "source": [
    "# Initialize packages to be used, enable matplotlib inline\n",
    "%matplotlib inline\n",
    "import matplotlib.pyplot as plt\n",
    "import numpy as np\n",
    "import csv"
   ]
  },
  {
   "cell_type": "code",
   "execution_count": 94,
   "metadata": {
    "collapsed": false
   },
   "outputs": [
    {
     "name": "stdout",
     "output_type": "stream",
     "text": [
      "[166, 19, 13217713, 161, 25, 13217729, 154, 38, 13217755, 147, 54, 13217771, 128, 95, 13217793, 110, 132, 13217814, 107, 143, 13217837, 107, 152, 13217845, 113, 189, 13217880]\n"
     ]
    }
   ],
   "source": [
    "# First we start by turning our text file lines into a clean list\n",
    "f = open(\"data/base_trial.csv\")\n",
    "empty_list = []\n",
    "for row in f:\n",
    "    i = int(row.strip())\n",
    "    empty_list.append(i)\n",
    "\n",
    "# Now let's do a test print for verification\n",
    "print(empty_list[0: 27])"
   ]
  },
  {
   "cell_type": "code",
   "execution_count": 92,
   "metadata": {
    "collapsed": false
   },
   "outputs": [
    {
     "name": "stdout",
     "output_type": "stream",
     "text": [
      "[[166, 19, 13217713], [161, 25, 13217729], [154, 38, 13217755], [147, 54, 13217771], [128, 95, 13217793], [110, 132, 13217814], [107, 143, 13217837], [107, 152, 13217845], [113, 189, 13217880]]\n"
     ]
    }
   ],
   "source": [
    "# Now that we have our initial list, we need to organize the data\n",
    "# into individual correlated arrays\n",
    "complete_list = [empty_list[x:x+3] for x in range(0, len(empty_list),3)]\n",
    "\n",
    "# Now let's do another small test print for verification\n",
    "print(complete_list[0:9])"
   ]
  },
  {
   "cell_type": "code",
   "execution_count": 77,
   "metadata": {
    "collapsed": true
   },
   "outputs": [],
   "source": [
    "# Very nice! Now that we have the data in correlated arrays, lets combine it\n",
    "# all together in a function so that we don't need to re-do this every time.\n",
    "def dataClean(file):\n",
    "    f = open(file)\n",
    "    empty_list = []\n",
    "    for row in f:\n",
    "        i = int(row.strip())\n",
    "        empty_list.append(i)\n",
    "    complete_list = [empty_list[x:x+3] for x in range(0, len(empty_list),3)]\n",
    "    return complete_list"
   ]
  },
  {
   "cell_type": "code",
   "execution_count": 89,
   "metadata": {
    "collapsed": false
   },
   "outputs": [
    {
     "name": "stdout",
     "output_type": "stream",
     "text": [
      "[[161, 25, 13217729], [154, 38, 13217755], [147, 54, 13217771], [128, 95, 13217793], [110, 132, 13217814], [107, 143, 13217837], [107, 152, 13217845], [113, 189, 13217880]]\n"
     ]
    }
   ],
   "source": [
    "# Now that the data has been reduced into a function, clean data from the\n",
    "# console output can be produced on the fly!\n",
    "print(dataClean(\"data/base_trial.csv\")[1:9])"
   ]
  },
  {
   "cell_type": "code",
   "execution_count": 91,
   "metadata": {
    "collapsed": false
   },
   "outputs": [
    {
     "name": "stdout",
     "output_type": "stream",
     "text": [
      "[[161, 25, 13217729], [154, 38, 13217755], [147, 54, 13217771], [128, 95, 13217793], [110, 132, 13217814], [107, 143, 13217837], [107, 152, 13217845], [113, 189, 13217880]]\n"
     ]
    }
   ],
   "source": [
    "# The function can be utilized for both .csv and .txt files without need\n",
    "# to change anything. CSVs could potentially be useful in the future for\n",
    "# removing or changing large pieces of data to introduce outlier behavior.\n",
    "print(dataClean(\"data/base_trial.txt\")[1:9])"
   ]
  },
  {
   "cell_type": "markdown",
   "metadata": {},
   "source": [
    "### Data Plotting\n",
    "Now that we have clean/useful data, we can proceed to plot it."
   ]
  },
  {
   "cell_type": "code",
   "execution_count": 108,
   "metadata": {
    "collapsed": true
   },
   "outputs": [],
   "source": [
    "# Building plotting function\n",
    "def plot(file):\n",
    "    working_list = dataClean(file)\n",
    "    x, y, t = [], [], []\n",
    "    for i in working_list:\n",
    "        x.append(i[0])\n",
    "        # y is flipped in the \n",
    "        y.append(800-i[1])\n",
    "        t.append(i[2])\n",
    "    plt.scatter(x,y)"
   ]
  },
  {
   "cell_type": "code",
   "execution_count": 109,
   "metadata": {
    "collapsed": false
   },
   "outputs": [
    {
     "data": {
      "image/png": "[encoded data removed]",
      "text/plain": [
       "<matplotlib.figure.Figure at 0x818acc0>"
      ]
     },
     "metadata": {},
     "output_type": "display_data"
    }
   ],
   "source": [
    "plot((\"data/base_trial2.txt\"))"
   ]
  },
  {
   "cell_type": "markdown",
   "metadata": {},
   "source": [
    "Lets compare our data plotting to the true drawing:\n",
    "![drawing](pictures/base_trial2.PNG)\n",
    "Looks about right! We can work on correct scaling of the axes next."
   ]
  },
  {
   "cell_type": "code",
   "execution_count": null,
   "metadata": {
    "collapsed": true
   },
   "outputs": [],
   "source": []
  }
 ],
 "metadata": {
  "kernelspec": {
   "display_name": "Python [conda root]",
   "language": "python",
   "name": "conda-root-py"
  },
  "language_info": {
   "codemirror_mode": {
    "name": "ipython",
    "version": 3
   },
   "file_extension": ".py",
   "mimetype": "text/x-python",
   "name": "python",
   "nbconvert_exporter": "python",
   "pygments_lexer": "ipython3",
   "version": "3.5.2"
  }
 },
 "nbformat": 4,
 "nbformat_minor": 1
}
