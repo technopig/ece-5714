{
 "cells": [
  {
   "cell_type": "markdown",
   "metadata": {},
   "source": [
    "# Homework #4:  Nicolas Acton, ECE-5714"
   ]
  },
  {
   "cell_type": "markdown",
   "metadata": {},
   "source": [
    "Consider the Gaussian mixture defined as:\n",
    "$$ G = (1 - \\varepsilon) N(0,1) + \\varepsilon N(0,25) $$"
   ]
  },
  {
   "cell_type": "markdown",
   "metadata": {},
   "source": [
    "### 1.1\n",
    "Express the asymptotic variance of the normalized sample mean at G as a function of $\\varepsilon$."
   ]
  },
  {
   "cell_type": "markdown",
   "metadata": {},
   "source": [
    "$$ f(r) = (1 - \\varepsilon)\\phi(r) + \\varepsilon\\phi(\\frac{r}{a}) = \\frac{(1 - \\varepsilon)}{\\sqrt{2\\pi}}e^{-\\frac{r^{2}}{2}} + \\frac{(\\varepsilon)}{\\sqrt{2\\pi}a}e^{-\\frac{r^{2}}{2a^{2}}}$$\n",
    "\n",
    "$$ lim_{m\\rightarrow\\infty}V(\\sqrt{m}\\bar{z_{m}}) = \\sigma^{2} = (1 - \\varepsilon)\\int^{\\infty}_{-\\infty}r^{2}\\phi(r)dr + (\\varepsilon)\\int^{\\infty}_{-\\infty}r^{2}\\phi(r/a)dr = 1 - \\varepsilon + \\varepsilon a^{2} $$\n",
    "\n",
    "Here $a^{2}=25$ so:\n",
    "\n",
    "$$  lim_{m\\rightarrow\\infty}V(\\sqrt{m}\\bar{z_{m}}) = 1 - \\varepsilon + 25\\varepsilon = 1 + 24\\varepsilon $$"
   ]
  },
  {
   "cell_type": "markdown",
   "metadata": {},
   "source": [
    "### 1.2\n",
    "Express the asymptotic variance of the normalized sample median at G as a function of $\\varepsilon$,\n",
    "which is given by:\n",
    "$$ lim_{m\\rightarrow\\infty}V(\\sqrt{m}\\theta_{m}) = \\frac{E[\\psi^{2}(r)]}{(E[\\psi'(r)])^{2}} $$"
   ]
  },
  {
   "cell_type": "markdown",
   "metadata": {},
   "source": [
    "The sample median has $\\psi_{med}(r)=sign(r)$ because $\\rho(r) = |r|$.\n",
    "\n",
    "With $E[\\psi^{2}_{med}(r)] = 1$ and $\\psi'_{med}(r) = 2\\partial(r)$:\n",
    "$$ E[$\\psi'_{med}(r)] = E[2\\partial(r)] = \\int^{\\infty}_{-\\infty}2\\partial(r)f(r)dr = 2f(0) $$\n",
    "\n",
    "$$ lim_{m\\rightarrow\\infty}V(\\sqrt{m}\\theta_{m}) = \\frac{1}{(2f(0))^{2}} = \\frac{1}{(4f(0))}$$ "
   ]
  },
  {
   "cell_type": "markdown",
   "metadata": {},
   "source": [
    "$$ f(0) = \\frac{(1 - \\varepsilon + \\varepsilon/5)}{\\sqrt{2\\pi}} = (1-4\\varepsilon/5)(1/\\sqrt{2\\pi)} $$\n",
    "$$ 4f^{2}(0) = \\frac{2\\pi}{4-32\\varepsilon/5+64\\varepsilon^{2}/25} = \\frac{\\pi}{2-16\\varepsilon/5+32\\varepsilon^{2}/25}$$"
   ]
  },
  {
   "cell_type": "markdown",
   "metadata": {},
   "source": [
    "### 1.3\n",
    "On the same figure, plot the asymptotic variance of the sample median and that of the sample mean versus $\\varepsilon$ for $\\varepsilon$ varying from 0 to 1. Find the value of $\\varepsilon$ at which the sample median becomes more efficient than the sample mean at G. Plot the density function of G at that value of $\\varepsilon$. Discuss the results."
   ]
  },
  {
   "cell_type": "code",
   "execution_count": 10,
   "metadata": {
    "collapsed": false
   },
   "outputs": [
    {
     "data": {
      "image/png": "[encoded data removed]",
      "text/plain": [
       "<matplotlib.figure.Figure at 0x81b3a58>"
      ]
     },
     "metadata": {},
     "output_type": "display_data"
    }
   ],
   "source": [
    "%matplotlib inline\n",
    "import matplotlib.pyplot as plt\n",
    "import numpy as np\n",
    "import math\n",
    "import random\n",
    "\n",
    "# Create a range and apply the derived asymptotic variance functions derived above.\n",
    "x = np.arange(0,1, 0.001)\n",
    "smean = 1 + 24*x\n",
    "smedian = 3.14159/(2 - ((16*x)/5) + ((32*(x**2)/25)))\n",
    "\n",
    "#plt.plot(t, t, 'r--', t, t**2, 'bs', t, t**3, 'g^')\n",
    "plot1 = plt.plot(x, smean, 'r--', label=\"asymptotic mean\")\n",
    "plt.plot(x, smedian, 'g-', label=\"asymptotic median\")\n",
    "plt.legend(bbox_to_anchor=(1.05, 1), loc=2, borderaxespad=0.)\n",
    "plt.show()"
   ]
  },
  {
   "cell_type": "markdown",
   "metadata": {
    "collapsed": false
   },
   "source": [
    "Find the $\\varepsilon$ points where the two areas intersect."
   ]
  },
  {
   "cell_type": "code",
   "execution_count": 15,
   "metadata": {
    "collapsed": false
   },
   "outputs": [
    {
     "name": "stdout",
     "output_type": "stream",
     "text": [
      "Intersection found at epsilon = 0.026\n",
      "Intersection found at epsilon = 0.924\n"
     ]
    }
   ],
   "source": [
    "idx = np.argwhere(np.diff(np.sign(smean - smedian)) != 0).reshape(-1) + 0\n",
    "for i in idx:\n",
    "    print(\"Intersection found at epsilon = \" + str(i/1000))"
   ]
  },
  {
   "cell_type": "markdown",
   "metadata": {},
   "source": [
    "Plot the probability density of this function."
   ]
  },
  {
   "cell_type": "code",
   "execution_count": 118,
   "metadata": {
    "collapsed": false
   },
   "outputs": [
    {
     "data": {
      "text/plain": [
       "<matplotlib.legend.Legend at 0x1154e5c0>"
      ]
     },
     "execution_count": 118,
     "metadata": {},
     "output_type": "execute_result"
    },
    {
     "data": {
      "image/png": "[encoded data removed]",
      "text/plain": [
       "<matplotlib.figure.Figure at 0x11500c18>"
      ]
     },
     "metadata": {},
     "output_type": "display_data"
    }
   ],
   "source": [
    "mu, sigma = 0, 1\n",
    "mu3, sigma3 = 0, (1 + 24*0.026)**0.5\n",
    "s = np.random.normal(mu, sigma, 10000)\n",
    "s3 = np.random.normal(mu, sigma3, 10000)\n",
    "#plot3 = count3, bins3, ignored3 = plt.hist(s3, 100, normed=True, color='y')\n",
    "#plot1 = count, bins, ignored = plt.hist(s, 100, normed=True, color='b')\n",
    "plt.plot(bins3, 1/(sigma3 * np.sqrt(2 * np.pi)) * np.exp( - (bins3 - mu)**2 / (2 * sigma3**2) ), linewidth=2, color='orange', label='mixture')\n",
    "plt.plot(bins, 1/(sigma * np.sqrt(2 * np.pi)) * np.exp( - (bins - mu)**2 / (2 * sigma**2) ), linewidth=2, color='r', label='normal')\n",
    "plt.legend(bbox_to_anchor=(1.05, 1), loc=2, borderaxespad=0.)"
   ]
  },
  {
   "cell_type": "markdown",
   "metadata": {},
   "source": [
    "As demonstrated with the lines of fit for each Gaussian distribution, the Gaussian mixture has much thicker tails and a lower amplited. This would make sense, as the Gaussian distribution with a variance of 25 has far thicker tails and would spread the distribution among more points."
   ]
  },
  {
   "cell_type": "markdown",
   "metadata": {},
   "source": [
    "### 2.1\n",
    "Find the Fisher information If associated with the Cauchy distribution, C(0,a), which has a density function given by\n",
    "$$ f(r) = \\frac{1}{\\pi a} \\frac{1}{1+(r/a)^{2}} $$"
   ]
  },
  {
   "cell_type": "markdown",
   "metadata": {},
   "source": [
    "Computation:\n",
    "$$ \\rho(r) = -ln(\\pi a) - ln(1 + (r/a)^{2}) $$\n",
    "Derive $\\rho(r)$ to find $\\psi(r) $:\n",
    "$$ \\psi(r) = \\frac{2(r/a)}{1+(r/a)^{2}}$$\n",
    "Derive $\\psi(r)$ to find $\\psi'(\\theta) $:\n",
    "$$ \\psi'(r) = -2\\frac{1-(r/a)^{2}}{(1+(r/a)^{2})^{2}}$$"
   ]
  },
  {
   "cell_type": "markdown",
   "metadata": {},
   "source": [
    "While Fisher information has been defined in our class notes as $I_{f}(\\theta) = E\\{[\\partial(lnf(z:\\theta))]^{2}\\}$ a preferred form, which is equivalent if the partial derivative exists, is actually $I_{f}(\\theta) = E\\{-[\\partial^{2}(lnf(z:\\theta))]\\}$ so:\n",
    "$$ I(r) = E\\{-[\\partial^{2}(lnf(r))]\\} = E\\{-[\\psi'(r)]\\} $$\n",
    "\n",
    "$$ = 2* \\int^{\\infty}_{-\\infty} 2\\frac{1-(r/a)^{2}}{(1+(r/a)^{2})^{2}} * f(r)dr $$\n",
    "\n",
    "$$ = \\frac{1}{\\pi a} \\int^{\\infty}_{-\\infty} 2\\frac{1-(r/a)^{2}}{(1+(r/a)^{2})^{2}}\\frac{1}{1+(r/a)^{2}} dr$$"
   ]
  },
  {
   "cell_type": "markdown",
   "metadata": {},
   "source": [
    "$$ = \\frac{2}{\\pi a} \\int^{\\infty}_{-\\infty} \\frac{1-(r/a)^{2}}{(1+(r/a)^{2})^{3}} dr$$"
   ]
  },
  {
   "cell_type": "markdown",
   "metadata": {},
   "source": [
    "Entering this integral into computation while replacing a with any real integer that is greater than 0 will result in:\n",
    "$$ I_{f}(r/a) = \\frac{1}{2} \\text{ for all real values of a > 0}$$"
   ]
  },
  {
   "cell_type": "markdown",
   "metadata": {},
   "source": [
    "### 3.1\n",
    "At the Cauchy distribution C(0,1) with a = 1, calculate the asymptotic variance of the sample median, which is expressed as:\n",
    "$$ lim_{m\\rightarrow\\infty}V(\\sqrt{m}\\theta_{m}) = \\frac{E[\\psi^{2}(r)]}{(E[\\psi'(r)])^{2}} $$\n",
    "where E[.] is evaluated at the probability density function f(r) given with a = 1."
   ]
  },
  {
   "cell_type": "markdown",
   "metadata": {},
   "source": [
    "$$ f(r) = \\frac{1}{\\pi} \\frac{1}{1+(r)^{2}} $$"
   ]
  },
  {
   "cell_type": "markdown",
   "metadata": {},
   "source": [
    "Computation to help later:\n",
    "$$ \\rho(r) = -ln(\\pi) - ln(1 + (r)^{2}) $$\n",
    "Derive $\\rho(r)$ to find $\\psi(r) $:\n",
    "$$ \\psi(r) = \\frac{2(r)}{1+(r)^{2}}$$\n",
    "Square the $ \\psi(r) $ function for later use:\n",
    "$$ \\psi^{2}(r) = (\\frac{2(r)}{1+(r)^{2}})^{2} = \\frac{4r^{2}}{(1+r^{2})^{2}}$$\n",
    "Derive $\\psi(r)$ to find $\\psi'(r) $:\n",
    "$$ \\psi'(r) = -2\\frac{1-(r)^{2}}{((1+(r)^{2})^{2}}$$"
   ]
  },
  {
   "cell_type": "markdown",
   "metadata": {},
   "source": [
    "Since $I(r) = E\\{-[\\partial^{2}(lnf(r))]\\} = E\\{-[\\psi'(r)]\\} = 1/2$ (derived in the previous problem) then $[E\\{-[\\psi'(r)]\\}]^{2} = E\\{[\\psi'(r)]\\}^2 = 1/4$\n",
    "\n",
    "$$ E[\\psi^{2}(r)] = \\int^{\\infty}_{-\\infty} \\frac{4r^{2}}{(1+r^{2})^{2}} * \\frac{1}{\\pi} \\frac{1}{1+(r)^{2}} dr = \\frac{4}{\\pi}\\int^{\\infty}_{-\\infty} \\frac{r^{2}}{(1+r^{2})^{3}} dr$$"
   ]
  },
  {
   "cell_type": "markdown",
   "metadata": {},
   "source": [
    "Entering the integral above into computation results in a value of 1/2 so\n",
    "$$ lim_{m\\rightarrow\\infty}V(\\sqrt{m}\\theta_{m}) = \\frac{E[\\psi^{2}(r)]}{(E[\\psi'(r)])^{2}} = \\frac{1/2}{1/4} = 2 $$"
   ]
  },
  {
   "cell_type": "markdown",
   "metadata": {},
   "source": [
    "### 3.2\n",
    "Calculate the asymptotic efficiency of the sample median and its loss of efficiency:\n",
    "\n",
    "Asymptotic efficiency is defined by: \n",
    "$$e_{m} = \\frac{1/I_{f}(r)}{V(\\sqrt{m}\\theta_{m})} = \\frac{\\frac{1}{1/2}}{2} = 2/2 = 1$$\n",
    "\n",
    "This would indicate that the variance of the sample mean is an **efficient estimator** as it asymptotically approaches $m\\rightarrow \\infty$"
   ]
  },
  {
   "cell_type": "markdown",
   "metadata": {},
   "source": [
    "### 4.1\n",
    "At the standard Gaussian distribution, N(0,1), calculate the asymptotic variance given by (1) of the Huber estimator (b=1.5) and the Huber-type skipped mean (b=2.71).\n",
    "$$ lim_{m\\rightarrow\\infty}V(\\sqrt{m}\\theta_{m}) = \\frac{E[\\psi^{2}(r)]}{(E[\\psi'(r)])^{2}} $$"
   ]
  },
  {
   "cell_type": "markdown",
   "metadata": {},
   "source": [
    "For both estimators:\n",
    "\n",
    "$f(r) = \\frac{1}{\\sqrt{2\\pi}}e^{-\\frac{(r)^{2}}{2}} \\ \\ for \\ \\ N(0,1) $\n",
    "\n",
    "For the Huber-Estimator:\n",
    "\n",
    "$\\begin{equation}\n",
    "    \\rho(r)=\n",
    "    \\begin{cases}\n",
    "      r^{2}/2, & \\text{for}\\ |r|\\leq b \\\\\n",
    "      b|r| - \\frac{b^{2}}{2}, & \\text{for}\\ |r|>b \\\\\n",
    "    \\end{cases}\n",
    "  \\end{equation}$\n",
    "\n",
    "$\\begin{equation}\n",
    "\\psi(r)=\n",
    "\\begin{cases}\n",
    "  r, & \\text{for}\\ |r|\\leq b \\\\\n",
    "  bsign(r), & \\text{for}\\ |r|>b \\\\\n",
    "\\end{cases}\n",
    "\\end{equation}$\n",
    "\n",
    "For the Huber-type skipped mean:\n",
    "  \n",
    "$\\begin{equation}\n",
    "\\rho(r)=\n",
    "\\begin{cases}\n",
    "  r^{2}/2, & \\text{for}\\ |r|\\leq b \\\\\n",
    "  \\frac{b^{2}}{2}, & \\text{for}\\ |r|>b \\\\\n",
    "\\end{cases}\n",
    "\\end{equation}$\n",
    "\n",
    "$\\begin{equation}\n",
    "\\psi(r)=\n",
    "\\begin{cases}\n",
    "  r, & \\text{for}\\ |r|\\leq b \\\\\n",
    "  0, & \\text{for}\\ |r|>b \\\\\n",
    "\\end{cases}\n",
    "\\end{equation}$"
   ]
  },
  {
   "cell_type": "markdown",
   "metadata": {},
   "source": [
    "As we've stated above:\n",
    "$$ lim_{m\\rightarrow\\infty}V(\\sqrt{m}\\theta_{m}) = \\frac{E[\\psi^{2}(r)]}{(E[\\psi'(r)])^{2}} $$"
   ]
  },
  {
   "cell_type": "markdown",
   "metadata": {},
   "source": [
    "**For Huber-Estimator:**"
   ]
  },
  {
   "cell_type": "markdown",
   "metadata": {},
   "source": [
    "$$ E[\\psi^{2}(2)] = \\int^{\\infty}_{-\\infty}\\psi^{2}(r)f(r)dr = $$\n",
    "$$\\int^{-1.5}_{-\\infty}(bsign(r))^{2}\\frac{1}{\\sqrt{2\\pi}}e^{-\\frac{(r)^{2}}{2}}dr + \\int^{1.5}_{-1.5}r^{2}\\frac{1}{\\sqrt{2\\pi}}e^{-\\frac{(r)^{2}}{2}}dr + \\int^{\\infty}_{1.5}(bsign(r))^{2}\\frac{1}{\\sqrt{2\\pi}}e^{-\\frac{(r)^{2}}{2}}dr$$"
   ]
  },
  {
   "cell_type": "markdown",
   "metadata": {},
   "source": [
    "Since $(sign(x)^2) = 1$:"
   ]
  },
  {
   "cell_type": "markdown",
   "metadata": {},
   "source": [
    "$$(b)^{2}\\int^{-1.5}_{-\\infty}\\frac{1}{\\sqrt{2\\pi}}e^{-\\frac{(r)^{2}}{2}}dr + \\int^{1.5}_{-1.5}r^{2}\\frac{1}{\\sqrt{2\\pi}}e^{-\\frac{(r)^{2}}{2}}dr + (b)^{2}\\int^{\\infty}_{1.5}\\frac{1}{\\sqrt{2\\pi}}e^{-\\frac{(r)^{2}}{2}}dr$$\n",
    "$$ E[\\psi^{2}(2)] = (1.5)^{2}\\int^{-1.5}_{-\\infty}\\frac{1}{\\sqrt{2\\pi}}e^{-\\frac{(r)^{2}}{2}}dr + \\int^{1.5}_{-1.5}r^{2}\\frac{1}{\\sqrt{2\\pi}}e^{-\\frac{(r)^{2}}{2}}dr + (1.5)^{2}\\int^{\\infty}_{1.5}\\frac{1}{\\sqrt{2\\pi}}e^{-\\frac{(r)^{2}}{2}}dr$$"
   ]
  },
  {
   "cell_type": "markdown",
   "metadata": {},
   "source": [
    "Computing the full integration, you get: $E[\\psi^{2}(2)] = 0.150316 + 0.477833 + 0.150316 = 0.778465 $"
   ]
  },
  {
   "cell_type": "markdown",
   "metadata": {},
   "source": [
    "$\\begin{equation}\n",
    "\\psi'(r)= \\partial \\psi(r) = \n",
    "\\begin{cases}\n",
    "  1, & \\text{for}\\ |r|\\leq b \\\\\n",
    "  b2\\delta(r), & \\text{for}\\ |r|>b \\\\\n",
    "\\end{cases}\n",
    "\\end{equation} \\ \\ \\ $\n",
    "$Where \\ \\delta(r) = Dirac Function = \n",
    "\\begin{equation}\n",
    "\\begin{cases}\n",
    "  +\\infty, & \\text{for}\\ r = 0 \\\\\n",
    "  0, & \\text{for}\\ r \\neq 0 \\\\\n",
    "\\end{cases}\n",
    "\\end{equation}$ so effectively 0 for this problem.\n",
    "$$ E[\\psi'(r)] = $\\int^{\\infty}_{-\\infty}\\psi'(r)f(r)dr = $$"
   ]
  },
  {
   "cell_type": "markdown",
   "metadata": {},
   "source": [
    "$$\\int^{-1.5}_{-\\infty}0^{2}\\frac{1}{\\sqrt{2\\pi}}e^{-\\frac{(r)^{2}}{2}}dr + \\int^{1.5}_{-1.5}1^{2}\\frac{1}{\\sqrt{2\\pi}}e^{-\\frac{(r)^{2}}{2}}dr + \\int^{\\infty}_{1.5}0^{2}\\frac{1}{\\sqrt{2\\pi}}e^{-\\frac{(r)^{2}}{2}}dr = \\int^{1.5}_{-1.5}\\frac{1}{\\sqrt{2\\pi}}e^{-\\frac{(r)^{2}}{2}}dr $$"
   ]
  },
  {
   "cell_type": "markdown",
   "metadata": {},
   "source": [
    "Computing the full integration you get: $E[\\psi'(r)] = 0.866386$; $E[\\psi'(r)]^2 = 0.750624$"
   ]
  },
  {
   "cell_type": "markdown",
   "metadata": {},
   "source": [
    "$$ lim_{m\\rightarrow\\infty}V(\\sqrt{m}\\theta_{m}) = \\frac{E[\\psi^{2}(r)]}{(E[\\psi'(r)])^{2}} = \\frac{0.778465}{0.750624} = 1.03709 $$"
   ]
  },
  {
   "cell_type": "markdown",
   "metadata": {},
   "source": [
    "**For Huber-type skipped mean:**"
   ]
  },
  {
   "cell_type": "markdown",
   "metadata": {},
   "source": [
    "$\\begin{equation}\n",
    "\\psi(r)=\n",
    "\\begin{cases}\n",
    "  r, & \\text{for}\\ |r|\\leq b \\\\\n",
    "  0, & \\text{for}\\ |r|>b \\\\\n",
    "\\end{cases}\n",
    "\\end{equation}$\n",
    "\n",
    "$\\begin{equation}\n",
    "\\psi'(r)= \\partial \\psi(r) = \n",
    "\\begin{cases}\n",
    "  1, & \\text{for}\\ |r|\\leq b \\\\\n",
    "  0, & \\text{for}\\ |r|>b \\\\\n",
    "\\end{cases}\n",
    "\\end{equation} \\ \\ \\ $\n",
    "$$ E[\\psi^{2}(2)] = \\int^{\\infty}_{-\\infty}\\psi^{2}(r)f(r)dr = $$\n",
    "$$\\int^{-1.5}_{-\\infty}(0)^{2}\\frac{1}{\\sqrt{2\\pi}}e^{-\\frac{(r)^{2}}{2}}dr + \\int^{1.5}_{-1.5}r^{2}\\frac{1}{\\sqrt{2\\pi}}e^{-\\frac{(r)^{2}}{2}}dr + \\int^{\\infty}_{1.5}(0)^{2}\\frac{1}{\\sqrt{2\\pi}}e^{-\\frac{(r)^{2}}{2}}dr$$"
   ]
  },
  {
   "cell_type": "markdown",
   "metadata": {},
   "source": [
    "Computing the full integration you get $E[\\psi^{2}(2)] = 0.477833$"
   ]
  },
  {
   "cell_type": "markdown",
   "metadata": {},
   "source": [
    "$$E[\\psi'(r)] = \\int^{-1.5}_{-\\infty}0^{2}\\frac{1}{\\sqrt{2\\pi}}e^{-\\frac{(r)^{2}}{2}}dr + \\int^{1.5}_{-1.5}1^{2}\\frac{1}{\\sqrt{2\\pi}}e^{-\\frac{(r)^{2}}{2}}dr + \\int^{\\infty}_{1.5}0^{2}\\frac{1}{\\sqrt{2\\pi}}e^{-\\frac{(r)^{2}}{2}}dr = \\int^{1.5}_{-1.5}\\frac{1}{\\sqrt{2\\pi}}e^{-\\frac{(r)^{2}}{2}}dr$$"
   ]
  },
  {
   "cell_type": "markdown",
   "metadata": {},
   "source": [
    "Computing the full integration you get: $E[\\psi'(r)] = 0.866386$; $E[\\psi'(r)]^2 = 0.750624$"
   ]
  },
  {
   "cell_type": "markdown",
   "metadata": {},
   "source": [
    "$$ lim_{m\\rightarrow\\infty}V(\\sqrt{m}\\theta_{m}) = \\frac{E[\\psi^{2}(r)]}{(E[\\psi'(r)])^{2}} = \\frac{0.477833}{0.750624} = 0.636581$$"
   ]
  },
  {
   "cell_type": "markdown",
   "metadata": {},
   "source": [
    "### 4.2\n",
    "calculate the asymptotic relative efficiency and the loss of efficiency of each of these two estimators with respect to the sample mean."
   ]
  },
  {
   "cell_type": "markdown",
   "metadata": {
    "collapsed": true
   },
   "source": [
    "**For sample mean of Gaussian N(0,1)**\n",
    "$$ I_{f}(r) = E[\\psi^{2}(r)] = \\int^{\\infty}_{-\\infty} r^{2}f(r)dr = \\int^{\\infty}_{-\\infty}r^{2}\\frac{1}{\\sqrt{2\\pi}}e^{-\\frac{(r)^{2}}{2}}dr =1$$\n",
    "$$ lim_{m\\rightarrow \\infty} V(\\sqrt{m}\\bar{\\theta}_{m}) = \\frac{1}{I_{f}} = 1$$"
   ]
  },
  {
   "cell_type": "markdown",
   "metadata": {},
   "source": [
    "**For Huber Estimator:**\n",
    "Asymptotic relative efficiency: \n",
    "$$e_{\\theta_{\\mu}\\theta{he}} = lim_{m\\rightarrow\\infty}\\frac{V(\\sqrt{m}\\theta_{\\mu})}{{V(\\sqrt{m}\\theta_{\\mu})}} = \\frac{1}{1.03709} = 0.964236 $$\n",
    "There is a loss of efficiency of 3.4%, making the Huber estimator with b = 1.5 a very good trade-off for efficiency in exchange for robust-ness of including outliers."
   ]
  },
  {
   "cell_type": "markdown",
   "metadata": {},
   "source": [
    "**For Huber Skipped-mean:**\n",
    "Asymptotic relative efficiency: \n",
    "$$e_{\\theta_{\\mu}\\theta{he}} = lim_{m\\rightarrow\\infty}\\frac{V(\\sqrt{m}\\theta_{\\mu})}{{V(\\sqrt{m}\\theta_{\\mu})}} = \\frac{1}{0.636581} = 1.57 \\approx \\pi/2$$\n",
    "There is a loss of efficiency of 57%, making the Huber estimator with b = 1.5 incredibly impractical and exchanges too much efficiency for any amount of robust-ness it may add, at least without contamination of the sample."
   ]
  }
 ],
 "metadata": {
  "anaconda-cloud": {},
  "kernelspec": {
   "display_name": "Python [conda root]",
   "language": "python",
   "name": "conda-root-py"
  },
  "language_info": {
   "codemirror_mode": {
    "name": "ipython",
    "version": 3
   },
   "file_extension": ".py",
   "mimetype": "text/x-python",
   "name": "python",
   "nbconvert_exporter": "python",
   "pygments_lexer": "ipython3",
   "version": "3.5.2"
  }
 },
 "nbformat": 4,
 "nbformat_minor": 1
}
