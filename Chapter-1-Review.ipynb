{
 "cells": [
  {
   "cell_type": "markdown",
   "metadata": {},
   "source": [
    "# Chapter 1 Review\n",
    "\n"
   ]
  },
  {
   "cell_type": "markdown",
   "metadata": {
    "collapsed": true
   },
   "source": [
    "## From Robust Statistics - Frank R. Hampel\n",
    "### Introduction\n",
    "#### The Place and Aims of Robust Statistics\n",
    "Laymans terms: Statistics are said to be *robust* when they are not significantly affected by outliers. The mean is often considered not to be a robust statistic as it can be greatly affected by outliers (if Bill Gates walks into the room, the average earnings of everyone in that room jumps exponentially!) The median can be considered a more robust statistic since it is not greatly affected by outliers.\n",
    "\n",
    "*In a broad informal sense, robust statistics is a body of knowledge, partly formalized into \"theories of robustness,\" relating to deviations from idealized assumptions in statistics.*\n",
    "It can also be said:\n",
    "*Robust statistics, as a collection of related theories, is the statistics of approximate parametric models.*\n",
    "\n",
    "#### The Aims of Robust Statistics\n",
    "Main Aims:\n",
    "1. To describe the structure best fitting the bulk of the data.\n",
    "2. To identify deviating data points (outliers) or deviating substructures for further treatment, if desired.\n",
    "3. (In the case of unbalanced data structures) To identify and give a warning about highly influential data points (\"leverage points\").\n",
    "4. (Since marginal distributions and correlation structures are only approximations) To deal with unsuspected serial correlations, or more generally, with deviations from the assumed correlation structures.\n",
    "\n",
    "Important to note that outliers are not bad, and can sometimes be the most valuable data points in the whole set. Robustness allows possibility of guessing the causes of gross error by giving more information. \n",
    "\n",
    "#### The Role of Parametric Models\n",
    "Reasoning for parametric models is that they provide an description of the complete set of data by means of a qualitative information very few simple numbers, and that they, along with parameter values, provide a complete and easily described stochastic (randomly determined) model.\n",
    "\n",
    "We can distinguish four main types of deviations from strict parametric models:\n",
    "1. The occurence of gross errors or blunders: occasional values where something went wrong.\n",
    "2. Rounding and grouping: all data has limited accuracy and is basically discrete, so they are often rounded, grouped, or classified coarsely. Local granularity effects effect the data.\n",
    "3. The model may have been conceived as an approximation anyway, for example, by virtue of the central limit theorem: large sets of data of very high-quality still tend to show small but noticeable deviations from the normal model.\n",
    "4. Apart from the distributional assumptions, the assumption of independence (or of some other specific correlation structure) may only be approximately fulfilled.\n",
    "\n",
    "#### Frequency of Gross Errors\n",
    "*Gross Errors* are errors due to a source of deviations which acts only occasionally but is quite powerful. They are the most frequent reasons for *outliers*.\n",
    "\n",
    "#### Necessity of Robust Procedures\n",
    "Some robust methods (such as subjective or objective rejection of outliers, or rank-based methods) are necessary to prevent disasters due to distant outliers.\n",
    "Good robust methods, as developed mainly in the last two decades, are necessary to prevent avoidable efficiency losses of, say, 3-30% or more.\n",
    "The higher the dimension and complexity of the data set, the less suitable are subjective and simple ad hoc methods, and the more necessary are safe modern robust methods.\n",
    "\n",
    "#### Huber's Minimax Approach for Robust Estimation\n",
    "Main Features:\n",
    "- M-estimators\n",
    "    - Useful tool with derived properties such as consistency and asymptotic normality.\n",
    "    - Slight generalization of maximum likelihood estimators, instead of solving:\n",
    "    "
   ]
  }
 ],
 "metadata": {
  "anaconda-cloud": {},
  "kernelspec": {
   "display_name": "Python [conda root]",
   "language": "python",
   "name": "conda-root-py"
  },
  "language_info": {
   "codemirror_mode": {
    "name": "ipython",
    "version": 3
   },
   "file_extension": ".py",
   "mimetype": "text/x-python",
   "name": "python",
   "nbconvert_exporter": "python",
   "pygments_lexer": "ipython3",
   "version": "3.5.2"
  }
 },
 "nbformat": 4,
 "nbformat_minor": 1
}
